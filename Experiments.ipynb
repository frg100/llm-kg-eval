{
 "cells": [
  {
   "cell_type": "code",
   "execution_count": 1,
   "id": "ffAC9T0lrSNe",
   "metadata": {
    "id": "ffAC9T0lrSNe"
   },
   "outputs": [],
   "source": [
    "import torch"
   ]
  },
  {
   "cell_type": "code",
   "execution_count": 12,
   "id": "R23VL53hopX9",
   "metadata": {
    "colab": {
     "base_uri": "https://localhost:8080/"
    },
    "id": "R23VL53hopX9",
    "outputId": "a238fbd2-1e36-4ae5-dd58-0ca6cda3a383"
   },
   "outputs": [
    {
     "name": "stdout",
     "output_type": "stream",
     "text": [
      "The autoreload extension is already loaded. To reload it, use:\n",
      "  %reload_ext autoreload\n"
     ]
    }
   ],
   "source": [
    "import graphs\n",
    "import models\n",
    "import utils\n",
    "\n",
    "%load_ext autoreload\n",
    "%autoreload 2"
   ]
  },
  {
   "cell_type": "code",
   "execution_count": 3,
   "id": "8df39083",
   "metadata": {},
   "outputs": [],
   "source": [
    "# import json\n",
    "\n",
    "# with open('./data/WN18RR/text/valid.txt', 'r') as f:\n",
    "#     relations = {}\n",
    "#     for line in f:\n",
    "#         head, relation, tail = line.split()\n",
    "#         relations[relation] = \"\"\n",
    "        \n",
    "    \n",
    "# print(json.dumps(relations), len(relations))"
   ]
  },
  {
   "cell_type": "code",
   "execution_count": 4,
   "id": "13d812c6",
   "metadata": {},
   "outputs": [
    {
     "name": "stdout",
     "output_type": "stream",
     "text": [
      "Loading file train.txt\n",
      "Data loading progress: [5%]\n",
      "Data loading progress: [10%]\n",
      "Data loading progress: [15%]\n",
      "Data loading progress: [20%]\n",
      "Data loading progress: [25%]\n",
      "Data loading progress: [30%]\n",
      "Data loading progress: [35%]\n",
      "Data loading progress: [40%]\n",
      "Data loading progress: [45%]\n",
      "Data loading progress: [50%]\n",
      "Data loading progress: [55%]\n",
      "Data loading progress: [60%]\n",
      "Data loading progress: [65%]\n",
      "Data loading progress: [70%]\n",
      "Data loading progress: [75%]\n",
      "Data loading progress: [80%]\n",
      "Data loading progress: [85%]\n",
      "Data loading progress: [90%]\n",
      "Loading file valid.txt\n",
      "Data loading progress: [95%]\n",
      "Loading file test.txt\n",
      "Data loading progress: [100%]\n",
      "Graph was successfully validated!\n",
      "Building the graph took 22 seconds\n"
     ]
    }
   ],
   "source": [
    "graph = graphs.WN18RR(base_path='./data/WN18RR/text', splits=['train', 'valid','test'], verbose=2)"
   ]
  },
  {
   "cell_type": "code",
   "execution_count": 5,
   "id": "3959547b",
   "metadata": {},
   "outputs": [
    {
     "data": {
      "text/plain": [
       "['The word bubble and squeak is part of burhinus',\n",
       " 'The word sign away is related to domesticate',\n",
       " 'The word national technical information service is a bald cypress',\n",
       " 'septobasidiaceae is in or took place in art paper',\n",
       " 'The word qum is related to murder',\n",
       " 'The word tidal wave is part of spirit',\n",
       " 'The word homestead is related to ache',\n",
       " 'slop is a similar kind of action to deflection',\n",
       " 'The word energy is a kind of guitar',\n",
       " 'aldehyde is a similar kind of action to demur']"
      ]
     },
     "execution_count": 5,
     "metadata": {},
     "output_type": "execute_result"
    }
   ],
   "source": [
    "graph.sample_english(10, negative = True)"
   ]
  },
  {
   "cell_type": "code",
   "execution_count": 6,
   "id": "d6e05b7e",
   "metadata": {
    "colab": {
     "base_uri": "https://localhost:8080/"
    },
    "id": "d6e05b7e",
    "outputId": "566a25bd-868c-4da9-ec1f-faf0585033be"
   },
   "outputs": [],
   "source": [
    "# graph = graphs.FB15k237(base_path='./data/FB15k-237', splits=['train', 'valid','test'], verbose=2)\n",
    "# https://www.cs.ubc.ca/~poole/cs532/2021/readings/Sentences2.txt"
   ]
  },
  {
   "cell_type": "code",
   "execution_count": 7,
   "id": "J2uiYjDfg-hq",
   "metadata": {
    "colab": {
     "base_uri": "https://localhost:8080/"
    },
    "id": "J2uiYjDfg-hq",
    "outputId": "d26bc660-a483-4656-82ce-669804ac4c9a"
   },
   "outputs": [
    {
     "name": "stdout",
     "output_type": "stream",
     "text": [
      "Using device: cpu\n"
     ]
    }
   ],
   "source": [
    "device = torch.device('cuda' if torch.cuda.is_available() else 'cpu')\n",
    "print('Using device:', device)"
   ]
  },
  {
   "cell_type": "code",
   "execution_count": 13,
   "id": "fb31f656",
   "metadata": {
    "colab": {
     "base_uri": "https://localhost:8080/"
    },
    "id": "fb31f656",
    "outputId": "2670f503-da91-48c6-9b49-d80fea75b4e3"
   },
   "outputs": [
    {
     "name": "stderr",
     "output_type": "stream",
     "text": [
      "06/03/2022 00:40:46 - INFO - happytransformer.happy_transformer -   Using model: cpu\n",
      "Some weights of the model checkpoint at bert-base-cased were not used when initializing BertForMaskedLM: ['cls.seq_relationship.bias', 'cls.seq_relationship.weight']\n",
      "- This IS expected if you are initializing BertForMaskedLM from the checkpoint of a model trained on another task or with another architecture (e.g. initializing a BertForSequenceClassification model from a BertForPreTraining model).\n",
      "- This IS NOT expected if you are initializing BertForMaskedLM from the checkpoint of a model that you expect to be exactly identical (initializing a BertForSequenceClassification model from a BertForSequenceClassification model).\n",
      "06/03/2022 00:40:55 - INFO - happytransformer.happy_transformer -   Using model: cpu\n"
     ]
    },
    {
     "data": {
      "application/vnd.jupyter.widget-view+json": {
       "model_id": "236adf5806de4538865c8cb476caea8b",
       "version_major": 2,
       "version_minor": 0
      },
      "text/plain": [
       "Downloading:   0%|          | 0.00/481 [00:00<?, ?B/s]"
      ]
     },
     "metadata": {},
     "output_type": "display_data"
    },
    {
     "data": {
      "application/vnd.jupyter.widget-view+json": {
       "model_id": "94441c06dd3e4221a101061cbbd50c00",
       "version_major": 2,
       "version_minor": 0
      },
      "text/plain": [
       "Downloading:   0%|          | 0.00/478M [00:00<?, ?B/s]"
      ]
     },
     "metadata": {},
     "output_type": "display_data"
    },
    {
     "data": {
      "application/vnd.jupyter.widget-view+json": {
       "model_id": "9d371f756cca44dd97799d5108725fa9",
       "version_major": 2,
       "version_minor": 0
      },
      "text/plain": [
       "Downloading:   0%|          | 0.00/878k [00:00<?, ?B/s]"
      ]
     },
     "metadata": {},
     "output_type": "display_data"
    },
    {
     "data": {
      "application/vnd.jupyter.widget-view+json": {
       "model_id": "b7499ad0e51144c0a70172af55eb5781",
       "version_major": 2,
       "version_minor": 0
      },
      "text/plain": [
       "Downloading:   0%|          | 0.00/446k [00:00<?, ?B/s]"
      ]
     },
     "metadata": {},
     "output_type": "display_data"
    },
    {
     "name": "stderr",
     "output_type": "stream",
     "text": [
      "06/03/2022 00:41:25 - INFO - happytransformer.happy_transformer -   Using model: cpu\n",
      "06/03/2022 00:41:37 - INFO - happytransformer.happy_transformer -   Using model: cpu\n"
     ]
    }
   ],
   "source": [
    "model_bert = models.BERT(model_id=\"bert-base-cased\", device=device, verbose=1)\n",
    "model_roberta = models.BERT(model_id=\"roberta-base\", device=device, verbose=1)\n",
    "model_gpt2 = models.GPT2(model_id=\"gpt2\", device=device, verbose=1)\n",
    "model_gpt2_large = models.GPT2(model_id=\"gpt2-large\", device=device, verbose=1)"
   ]
  },
  {
   "cell_type": "code",
   "execution_count": 14,
   "id": "e6eaecb1",
   "metadata": {
    "colab": {
     "base_uri": "https://localhost:8080/"
    },
    "id": "e6eaecb1",
    "outputId": "1a7d4f03-5402-43e8-86ed-24d673b36ecb"
   },
   "outputs": [
    {
     "name": "stdout",
     "output_type": "stream",
     "text": [
      "[BERT_roberta-base] Calculating perplexity for 100 samples\n"
     ]
    },
    {
     "name": "stderr",
     "output_type": "stream",
     "text": [
      "100%|████████████████████████████████████████████████████████████████████████████████████████████████████| 100/100 [05:24<00:00,  3.24s/it]\n"
     ]
    },
    {
     "name": "stdout",
     "output_type": "stream",
     "text": [
      "[BERT_roberta-base] Final average perplexity: 10.78476599574089\n",
      "[BERT_roberta-base] Calculating perplexity for 100 samples\n"
     ]
    },
    {
     "name": "stderr",
     "output_type": "stream",
     "text": [
      "100%|████████████████████████████████████████████████████████████████████████████████████████████████████| 100/100 [05:40<00:00,  3.40s/it]\n"
     ]
    },
    {
     "name": "stdout",
     "output_type": "stream",
     "text": [
      "[BERT_roberta-base] Final average perplexity: 37.34951154232025\n",
      "The power of BERT_roberta-base on WN18RR (100 samples) is: [1.8014830916470984e-06]\n",
      "[BERT_roberta-base] Calculating perplexity for 100 samples\n"
     ]
    },
    {
     "name": "stderr",
     "output_type": "stream",
     "text": [
      "100%|████████████████████████████████████████████████████████████████████████████████████████████████████| 100/100 [05:20<00:00,  3.21s/it]\n"
     ]
    },
    {
     "name": "stdout",
     "output_type": "stream",
     "text": [
      "[BERT_roberta-base] Final average perplexity: 11.119793803691865\n",
      "[BERT_roberta-base] Calculating perplexity for 100 samples\n"
     ]
    },
    {
     "name": "stderr",
     "output_type": "stream",
     "text": [
      "100%|████████████████████████████████████████████████████████████████████████████████████████████████████| 100/100 [05:46<00:00,  3.46s/it]\n"
     ]
    },
    {
     "name": "stdout",
     "output_type": "stream",
     "text": [
      "[BERT_roberta-base] Final average perplexity: 33.54098469018936\n",
      "The power of BERT_roberta-base on WN18RR (100 samples) is: [1.627468685174657e-07]\n",
      "[BERT_roberta-base] Calculating perplexity for 100 samples\n"
     ]
    },
    {
     "name": "stderr",
     "output_type": "stream",
     "text": [
      "100%|████████████████████████████████████████████████████████████████████████████████████████████████████| 100/100 [05:23<00:00,  3.23s/it]\n"
     ]
    },
    {
     "name": "stdout",
     "output_type": "stream",
     "text": [
      "[BERT_roberta-base] Final average perplexity: 12.780212709903717\n",
      "[BERT_roberta-base] Calculating perplexity for 100 samples\n"
     ]
    },
    {
     "name": "stderr",
     "output_type": "stream",
     "text": [
      "100%|████████████████████████████████████████████████████████████████████████████████████████████████████| 100/100 [05:36<00:00,  3.37s/it]\n"
     ]
    },
    {
     "name": "stdout",
     "output_type": "stream",
     "text": [
      "[BERT_roberta-base] Final average perplexity: 24.665364770889283\n",
      "The power of BERT_roberta-base on WN18RR (100 samples) is: [1.437679725367442e-06]\n",
      "[BERT_roberta-base] Calculating perplexity for 100 samples\n"
     ]
    },
    {
     "name": "stderr",
     "output_type": "stream",
     "text": [
      "100%|████████████████████████████████████████████████████████████████████████████████████████████████████| 100/100 [05:23<00:00,  3.24s/it]\n"
     ]
    },
    {
     "name": "stdout",
     "output_type": "stream",
     "text": [
      "[BERT_roberta-base] Final average perplexity: 10.209223356246948\n",
      "[BERT_roberta-base] Calculating perplexity for 100 samples\n"
     ]
    },
    {
     "name": "stderr",
     "output_type": "stream",
     "text": [
      "100%|████████████████████████████████████████████████████████████████████████████████████████████████████| 100/100 [05:30<00:00,  3.30s/it]\n"
     ]
    },
    {
     "name": "stdout",
     "output_type": "stream",
     "text": [
      "[BERT_roberta-base] Final average perplexity: 44.895088317394254\n",
      "The power of BERT_roberta-base on WN18RR (100 samples) is: [6.348559160717892e-07]\n",
      "[BERT_roberta-base] Calculating perplexity for 100 samples\n"
     ]
    },
    {
     "name": "stderr",
     "output_type": "stream",
     "text": [
      "100%|████████████████████████████████████████████████████████████████████████████████████████████████████| 100/100 [05:48<00:00,  3.48s/it]\n"
     ]
    },
    {
     "name": "stdout",
     "output_type": "stream",
     "text": [
      "[BERT_roberta-base] Final average perplexity: 11.705704975128175\n",
      "[BERT_roberta-base] Calculating perplexity for 100 samples\n"
     ]
    },
    {
     "name": "stderr",
     "output_type": "stream",
     "text": [
      "100%|████████████████████████████████████████████████████████████████████████████████████████████████████| 100/100 [05:46<00:00,  3.46s/it]\n"
     ]
    },
    {
     "name": "stdout",
     "output_type": "stream",
     "text": [
      "[BERT_roberta-base] Final average perplexity: 33.28187705993653\n",
      "The power of BERT_roberta-base on WN18RR (100 samples) is: [1.1080528811541643e-05]\n",
      "[BERT_roberta-base] Calculating perplexity for 100 samples\n"
     ]
    },
    {
     "name": "stderr",
     "output_type": "stream",
     "text": [
      "100%|████████████████████████████████████████████████████████████████████████████████████████████████████| 100/100 [05:12<00:00,  3.13s/it]\n"
     ]
    },
    {
     "name": "stdout",
     "output_type": "stream",
     "text": [
      "[BERT_roberta-base] Final average perplexity: 11.04013275384903\n",
      "[BERT_roberta-base] Calculating perplexity for 100 samples\n"
     ]
    },
    {
     "name": "stderr",
     "output_type": "stream",
     "text": [
      "100%|████████████████████████████████████████████████████████████████████████████████████████████████████| 100/100 [05:29<00:00,  3.30s/it]\n"
     ]
    },
    {
     "name": "stdout",
     "output_type": "stream",
     "text": [
      "[BERT_roberta-base] Final average perplexity: 28.464733014106752\n",
      "The power of BERT_roberta-base on WN18RR (100 samples) is: [2.540864612751671e-07]\n",
      "[BERT_roberta-base] Calculating perplexity for 100 samples\n"
     ]
    },
    {
     "name": "stderr",
     "output_type": "stream",
     "text": [
      "100%|████████████████████████████████████████████████████████████████████████████████████████████████████| 100/100 [05:24<00:00,  3.24s/it]\n"
     ]
    },
    {
     "name": "stdout",
     "output_type": "stream",
     "text": [
      "[BERT_roberta-base] Final average perplexity: 11.536682804822922\n",
      "[BERT_roberta-base] Calculating perplexity for 100 samples\n"
     ]
    },
    {
     "name": "stderr",
     "output_type": "stream",
     "text": [
      "100%|████████████████████████████████████████████████████████████████████████████████████████████████████| 100/100 [05:33<00:00,  3.34s/it]\n"
     ]
    },
    {
     "name": "stdout",
     "output_type": "stream",
     "text": [
      "[BERT_roberta-base] Final average perplexity: 48.50934769868851\n",
      "The power of BERT_roberta-base on WN18RR (100 samples) is: [0.0001089464846417844]\n",
      "[BERT_roberta-base] Calculating perplexity for 100 samples\n"
     ]
    },
    {
     "name": "stderr",
     "output_type": "stream",
     "text": [
      "100%|████████████████████████████████████████████████████████████████████████████████████████████████████| 100/100 [05:29<00:00,  3.30s/it]\n"
     ]
    },
    {
     "name": "stdout",
     "output_type": "stream",
     "text": [
      "[BERT_roberta-base] Final average perplexity: 11.347634426355363\n",
      "[BERT_roberta-base] Calculating perplexity for 100 samples\n"
     ]
    },
    {
     "name": "stderr",
     "output_type": "stream",
     "text": [
      "100%|████████████████████████████████████████████████████████████████████████████████████████████████████| 100/100 [05:46<00:00,  3.47s/it]\n"
     ]
    },
    {
     "name": "stdout",
     "output_type": "stream",
     "text": [
      "[BERT_roberta-base] Final average perplexity: 27.168277664184572\n",
      "The power of BERT_roberta-base on WN18RR (100 samples) is: [5.028971964252379e-06]\n",
      "[BERT_roberta-base] Calculating perplexity for 100 samples\n"
     ]
    },
    {
     "name": "stderr",
     "output_type": "stream",
     "text": [
      "100%|████████████████████████████████████████████████████████████████████████████████████████████████████| 100/100 [05:34<00:00,  3.35s/it]\n"
     ]
    },
    {
     "name": "stdout",
     "output_type": "stream",
     "text": [
      "[BERT_roberta-base] Final average perplexity: 16.368450345993043\n",
      "[BERT_roberta-base] Calculating perplexity for 100 samples\n"
     ]
    },
    {
     "name": "stderr",
     "output_type": "stream",
     "text": [
      "100%|████████████████████████████████████████████████████████████████████████████████████████████████████| 100/100 [05:48<00:00,  3.49s/it]\n"
     ]
    },
    {
     "name": "stdout",
     "output_type": "stream",
     "text": [
      "[BERT_roberta-base] Final average perplexity: 28.65379721045494\n",
      "The power of BERT_roberta-base on WN18RR (100 samples) is: [0.0013610815292947299]\n",
      "[BERT_roberta-base] Calculating perplexity for 100 samples\n"
     ]
    },
    {
     "name": "stderr",
     "output_type": "stream",
     "text": [
      "100%|████████████████████████████████████████████████████████████████████████████████████████████████████| 100/100 [05:40<00:00,  3.40s/it]\n"
     ]
    },
    {
     "name": "stdout",
     "output_type": "stream",
     "text": [
      "[BERT_roberta-base] Final average perplexity: 9.51863374710083\n",
      "[BERT_roberta-base] Calculating perplexity for 100 samples\n"
     ]
    },
    {
     "name": "stderr",
     "output_type": "stream",
     "text": [
      "100%|████████████████████████████████████████████████████████████████████████████████████████████████████| 100/100 [05:45<00:00,  3.46s/it]\n"
     ]
    },
    {
     "name": "stdout",
     "output_type": "stream",
     "text": [
      "[BERT_roberta-base] Final average perplexity: 25.970636327266693\n",
      "The power of BERT_roberta-base on WN18RR (100 samples) is: [2.8365728705132254e-08]\n",
      "[BERT_bert-base-cased] Calculating perplexity for 100 samples\n"
     ]
    },
    {
     "name": "stderr",
     "output_type": "stream",
     "text": [
      "100%|████████████████████████████████████████████████████████████████████████████████████████████████████| 100/100 [05:19<00:00,  3.19s/it]\n"
     ]
    },
    {
     "name": "stdout",
     "output_type": "stream",
     "text": [
      "[BERT_bert-base-cased] Final average perplexity: 7.930311353206634\n",
      "[BERT_bert-base-cased] Calculating perplexity for 100 samples\n"
     ]
    },
    {
     "name": "stderr",
     "output_type": "stream",
     "text": [
      "100%|████████████████████████████████████████████████████████████████████████████████████████████████████| 100/100 [05:26<00:00,  3.27s/it]\n"
     ]
    },
    {
     "name": "stdout",
     "output_type": "stream",
     "text": [
      "[BERT_bert-base-cased] Final average perplexity: 14.329807531833648\n",
      "The power of BERT_bert-base-cased on WN18RR (100 samples) is: [2.8020855654313685e-05]\n",
      "[BERT_bert-base-cased] Calculating perplexity for 100 samples\n"
     ]
    },
    {
     "name": "stderr",
     "output_type": "stream",
     "text": [
      "100%|█████████████████████████████████████████| 100/100 [05:07<00:00,  3.08s/it]\n"
     ]
    },
    {
     "name": "stdout",
     "output_type": "stream",
     "text": [
      "[BERT_bert-base-cased] Final average perplexity: 8.506429038047791\n",
      "[BERT_bert-base-cased] Calculating perplexity for 100 samples\n"
     ]
    },
    {
     "name": "stderr",
     "output_type": "stream",
     "text": [
      "100%|█████████████████████████████████████████| 100/100 [05:13<00:00,  3.13s/it]\n"
     ]
    },
    {
     "name": "stdout",
     "output_type": "stream",
     "text": [
      "[BERT_bert-base-cased] Final average perplexity: 16.517537652254106\n",
      "The power of BERT_bert-base-cased on WN18RR (100 samples) is: [0.00014197123511380412]\n",
      "[BERT_bert-base-cased] Calculating perplexity for 100 samples\n"
     ]
    },
    {
     "name": "stderr",
     "output_type": "stream",
     "text": [
      "100%|█████████████████████████████████████████| 100/100 [05:16<00:00,  3.16s/it]\n"
     ]
    },
    {
     "name": "stdout",
     "output_type": "stream",
     "text": [
      "[BERT_bert-base-cased] Final average perplexity: 8.557455307245254\n",
      "[BERT_bert-base-cased] Calculating perplexity for 100 samples\n"
     ]
    },
    {
     "name": "stderr",
     "output_type": "stream",
     "text": [
      "100%|█████████████████████████████████████████| 100/100 [05:15<00:00,  3.15s/it]\n"
     ]
    },
    {
     "name": "stdout",
     "output_type": "stream",
     "text": [
      "[BERT_bert-base-cased] Final average perplexity: 16.590720804929735\n",
      "The power of BERT_bert-base-cased on WN18RR (100 samples) is: [0.0020726152150215334]\n",
      "[BERT_bert-base-cased] Calculating perplexity for 100 samples\n"
     ]
    },
    {
     "name": "stderr",
     "output_type": "stream",
     "text": [
      "100%|█████████████████████████████████████████| 100/100 [04:56<00:00,  2.96s/it]\n"
     ]
    },
    {
     "name": "stdout",
     "output_type": "stream",
     "text": [
      "[BERT_bert-base-cased] Final average perplexity: 7.622562695741653\n",
      "[BERT_bert-base-cased] Calculating perplexity for 100 samples\n"
     ]
    },
    {
     "name": "stderr",
     "output_type": "stream",
     "text": [
      "100%|█████████████████████████████████████████| 100/100 [05:13<00:00,  3.14s/it]\n"
     ]
    },
    {
     "name": "stdout",
     "output_type": "stream",
     "text": [
      "[BERT_bert-base-cased] Final average perplexity: 16.079608166217803\n",
      "The power of BERT_bert-base-cased on WN18RR (100 samples) is: [1.307410469960596e-05]\n",
      "[BERT_bert-base-cased] Calculating perplexity for 100 samples\n"
     ]
    },
    {
     "name": "stderr",
     "output_type": "stream",
     "text": [
      "100%|█████████████████████████████████████████| 100/100 [05:06<00:00,  3.07s/it]\n"
     ]
    },
    {
     "name": "stdout",
     "output_type": "stream",
     "text": [
      "[BERT_bert-base-cased] Final average perplexity: 6.582156366109848\n",
      "[BERT_bert-base-cased] Calculating perplexity for 100 samples\n"
     ]
    },
    {
     "name": "stderr",
     "output_type": "stream",
     "text": [
      "100%|█████████████████████████████████████████| 100/100 [05:18<00:00,  3.19s/it]\n"
     ]
    },
    {
     "name": "stdout",
     "output_type": "stream",
     "text": [
      "[BERT_bert-base-cased] Final average perplexity: 14.44720531463623\n",
      "The power of BERT_bert-base-cased on WN18RR (100 samples) is: [6.011171976307082e-07]\n",
      "[BERT_bert-base-cased] Calculating perplexity for 100 samples\n"
     ]
    },
    {
     "name": "stderr",
     "output_type": "stream",
     "text": [
      "100%|█████████████████████████████████████████| 100/100 [05:00<00:00,  3.01s/it]\n"
     ]
    },
    {
     "name": "stdout",
     "output_type": "stream",
     "text": [
      "[BERT_bert-base-cased] Final average perplexity: 7.692633539438248\n",
      "[BERT_bert-base-cased] Calculating perplexity for 100 samples\n"
     ]
    },
    {
     "name": "stderr",
     "output_type": "stream",
     "text": [
      "100%|█████████████████████████████████████████| 100/100 [05:14<00:00,  3.15s/it]\n"
     ]
    },
    {
     "name": "stdout",
     "output_type": "stream",
     "text": [
      "[BERT_bert-base-cased] Final average perplexity: 18.562341105937957\n",
      "The power of BERT_bert-base-cased on WN18RR (100 samples) is: [0.009671182359854077]\n",
      "[BERT_bert-base-cased] Calculating perplexity for 100 samples\n"
     ]
    },
    {
     "name": "stderr",
     "output_type": "stream",
     "text": [
      "100%|█████████████████████████████████████████| 100/100 [04:58<00:00,  2.99s/it]\n"
     ]
    },
    {
     "name": "stdout",
     "output_type": "stream",
     "text": [
      "[BERT_bert-base-cased] Final average perplexity: 6.712169582843781\n",
      "[BERT_bert-base-cased] Calculating perplexity for 100 samples\n"
     ]
    },
    {
     "name": "stderr",
     "output_type": "stream",
     "text": [
      "100%|█████████████████████████████████████████| 100/100 [05:13<00:00,  3.14s/it]\n"
     ]
    },
    {
     "name": "stdout",
     "output_type": "stream",
     "text": [
      "[BERT_bert-base-cased] Final average perplexity: 15.195136655569076\n",
      "The power of BERT_bert-base-cased on WN18RR (100 samples) is: [1.1607886912414553e-06]\n",
      "[BERT_bert-base-cased] Calculating perplexity for 100 samples\n"
     ]
    },
    {
     "name": "stderr",
     "output_type": "stream",
     "text": [
      "100%|█████████████████████████████████████████| 100/100 [04:57<00:00,  2.98s/it]\n"
     ]
    },
    {
     "name": "stdout",
     "output_type": "stream",
     "text": [
      "[BERT_bert-base-cased] Final average perplexity: 7.725391390323639\n",
      "[BERT_bert-base-cased] Calculating perplexity for 100 samples\n"
     ]
    },
    {
     "name": "stderr",
     "output_type": "stream",
     "text": [
      "100%|█████████████████████████████████████████| 100/100 [05:23<00:00,  3.23s/it]\n"
     ]
    },
    {
     "name": "stdout",
     "output_type": "stream",
     "text": [
      "[BERT_bert-base-cased] Final average perplexity: 23.984086453914642\n",
      "The power of BERT_bert-base-cased on WN18RR (100 samples) is: [0.00045780535746826385]\n",
      "[BERT_bert-base-cased] Calculating perplexity for 100 samples\n"
     ]
    },
    {
     "name": "stderr",
     "output_type": "stream",
     "text": [
      "100%|█████████████████████████████████████████| 100/100 [04:58<00:00,  2.98s/it]\n"
     ]
    },
    {
     "name": "stdout",
     "output_type": "stream",
     "text": [
      "[BERT_bert-base-cased] Final average perplexity: 6.542204854488372\n",
      "[BERT_bert-base-cased] Calculating perplexity for 100 samples\n"
     ]
    },
    {
     "name": "stderr",
     "output_type": "stream",
     "text": [
      "100%|█████████████████████████████████████████| 100/100 [05:28<00:00,  3.29s/it]\n"
     ]
    },
    {
     "name": "stdout",
     "output_type": "stream",
     "text": [
      "[BERT_bert-base-cased] Final average perplexity: 17.716494765281677\n",
      "The power of BERT_bert-base-cased on WN18RR (100 samples) is: [5.447298681188493e-06]\n",
      "[BERT_bert-base-cased] Calculating perplexity for 100 samples\n"
     ]
    },
    {
     "name": "stderr",
     "output_type": "stream",
     "text": [
      "100%|█████████████████████████████████████████| 100/100 [05:01<00:00,  3.01s/it]\n"
     ]
    },
    {
     "name": "stdout",
     "output_type": "stream",
     "text": [
      "[BERT_bert-base-cased] Final average perplexity: 9.507155536413192\n",
      "[BERT_bert-base-cased] Calculating perplexity for 100 samples\n"
     ]
    },
    {
     "name": "stderr",
     "output_type": "stream",
     "text": [
      "100%|█████████████████████████████████████████| 100/100 [05:25<00:00,  3.25s/it]\n"
     ]
    },
    {
     "name": "stdout",
     "output_type": "stream",
     "text": [
      "[BERT_bert-base-cased] Final average perplexity: 13.801319813728332\n",
      "The power of BERT_bert-base-cased on WN18RR (100 samples) is: [0.03380851271584999]\n",
      "[gpt2] Calculating perplexity for 100 samples\n"
     ]
    },
    {
     "name": "stderr",
     "output_type": "stream",
     "text": [
      "100%|█████████████████████████████████████████| 100/100 [03:44<00:00,  2.25s/it]\n"
     ]
    },
    {
     "name": "stdout",
     "output_type": "stream",
     "text": [
      "[gpt2] Final average perplexity: 105.14107389450074\n",
      "[gpt2] Calculating perplexity for 100 samples\n"
     ]
    },
    {
     "name": "stderr",
     "output_type": "stream",
     "text": [
      "100%|█████████████████████████████████████████| 100/100 [03:38<00:00,  2.19s/it]\n"
     ]
    },
    {
     "name": "stdout",
     "output_type": "stream",
     "text": [
      "[gpt2] Final average perplexity: 264.9877550888061\n",
      "The power of GPT2_gpt2 on WN18RR (100 samples) is: [1.6604375662784195e-10]\n",
      "[gpt2] Calculating perplexity for 100 samples\n"
     ]
    },
    {
     "name": "stderr",
     "output_type": "stream",
     "text": [
      "100%|█████████████████████████████████████████| 100/100 [03:30<00:00,  2.11s/it]\n"
     ]
    },
    {
     "name": "stdout",
     "output_type": "stream",
     "text": [
      "[gpt2] Final average perplexity: 136.8600878715515\n",
      "[gpt2] Calculating perplexity for 100 samples\n"
     ]
    },
    {
     "name": "stderr",
     "output_type": "stream",
     "text": [
      "100%|█████████████████████████████████████████| 100/100 [03:37<00:00,  2.18s/it]\n"
     ]
    },
    {
     "name": "stdout",
     "output_type": "stream",
     "text": [
      "[gpt2] Final average perplexity: 254.2588963699341\n",
      "The power of GPT2_gpt2 on WN18RR (100 samples) is: [2.1031059156488774e-06]\n",
      "[gpt2] Calculating perplexity for 100 samples\n"
     ]
    },
    {
     "name": "stderr",
     "output_type": "stream",
     "text": [
      "100%|█████████████████████████████████████████| 100/100 [03:32<00:00,  2.13s/it]\n"
     ]
    },
    {
     "name": "stdout",
     "output_type": "stream",
     "text": [
      "[gpt2] Final average perplexity: 102.2291907119751\n",
      "[gpt2] Calculating perplexity for 100 samples\n"
     ]
    },
    {
     "name": "stderr",
     "output_type": "stream",
     "text": [
      "100%|█████████████████████████████████████████| 100/100 [03:38<00:00,  2.19s/it]\n"
     ]
    },
    {
     "name": "stdout",
     "output_type": "stream",
     "text": [
      "[gpt2] Final average perplexity: 240.2116915130615\n",
      "The power of GPT2_gpt2 on WN18RR (100 samples) is: [5.276920692177161e-09]\n",
      "[gpt2] Calculating perplexity for 100 samples\n"
     ]
    },
    {
     "name": "stderr",
     "output_type": "stream",
     "text": [
      "100%|█████████████████████████████████████████| 100/100 [03:43<00:00,  2.23s/it]\n"
     ]
    },
    {
     "name": "stdout",
     "output_type": "stream",
     "text": [
      "[gpt2] Final average perplexity: 120.60487859725953\n",
      "[gpt2] Calculating perplexity for 100 samples\n"
     ]
    },
    {
     "name": "stderr",
     "output_type": "stream",
     "text": [
      "100%|█████████████████████████████████████████| 100/100 [03:41<00:00,  2.21s/it]\n"
     ]
    },
    {
     "name": "stdout",
     "output_type": "stream",
     "text": [
      "[gpt2] Final average perplexity: 248.3189743423462\n",
      "The power of GPT2_gpt2 on WN18RR (100 samples) is: [5.760071648322395e-08]\n",
      "[gpt2] Calculating perplexity for 100 samples\n"
     ]
    },
    {
     "name": "stderr",
     "output_type": "stream",
     "text": [
      "100%|█████████████████████████████████████████| 100/100 [03:33<00:00,  2.14s/it]\n"
     ]
    },
    {
     "name": "stdout",
     "output_type": "stream",
     "text": [
      "[gpt2] Final average perplexity: 120.76878910064697\n",
      "[gpt2] Calculating perplexity for 100 samples\n"
     ]
    },
    {
     "name": "stderr",
     "output_type": "stream",
     "text": [
      "100%|█████████████████████████████████████████| 100/100 [03:37<00:00,  2.18s/it]\n"
     ]
    },
    {
     "name": "stdout",
     "output_type": "stream",
     "text": [
      "[gpt2] Final average perplexity: 271.9779581832886\n",
      "The power of GPT2_gpt2 on WN18RR (100 samples) is: [1.2318150000772744e-09]\n",
      "[gpt2] Calculating perplexity for 100 samples\n"
     ]
    },
    {
     "name": "stderr",
     "output_type": "stream",
     "text": [
      "100%|█████████████████████████████████████████| 100/100 [03:33<00:00,  2.14s/it]\n"
     ]
    },
    {
     "name": "stdout",
     "output_type": "stream",
     "text": [
      "[gpt2] Final average perplexity: 131.4051172065735\n",
      "[gpt2] Calculating perplexity for 100 samples\n"
     ]
    },
    {
     "name": "stderr",
     "output_type": "stream",
     "text": [
      "100%|█████████████████████████████████████████| 100/100 [03:42<00:00,  2.23s/it]\n"
     ]
    },
    {
     "name": "stdout",
     "output_type": "stream",
     "text": [
      "[gpt2] Final average perplexity: 244.4272982788086\n",
      "The power of GPT2_gpt2 on WN18RR (100 samples) is: [2.0129428168731683e-06]\n",
      "[gpt2] Calculating perplexity for 100 samples\n"
     ]
    },
    {
     "name": "stderr",
     "output_type": "stream",
     "text": [
      "100%|█████████████████████████████████████████| 100/100 [03:25<00:00,  2.06s/it]\n"
     ]
    },
    {
     "name": "stdout",
     "output_type": "stream",
     "text": [
      "[gpt2] Final average perplexity: 108.53315044403077\n",
      "[gpt2] Calculating perplexity for 100 samples\n"
     ]
    },
    {
     "name": "stderr",
     "output_type": "stream",
     "text": [
      "100%|█████████████████████████████████████████| 100/100 [03:39<00:00,  2.20s/it]\n"
     ]
    },
    {
     "name": "stdout",
     "output_type": "stream",
     "text": [
      "[gpt2] Final average perplexity: 236.61504035949707\n",
      "The power of GPT2_gpt2 on WN18RR (100 samples) is: [3.8853178472387463e-08]\n",
      "[gpt2] Calculating perplexity for 100 samples\n"
     ]
    },
    {
     "name": "stderr",
     "output_type": "stream",
     "text": [
      "100%|█████████████████████████████████████████| 100/100 [03:44<00:00,  2.25s/it]\n"
     ]
    },
    {
     "name": "stdout",
     "output_type": "stream",
     "text": [
      "[gpt2] Final average perplexity: 110.91892988204955\n",
      "[gpt2] Calculating perplexity for 100 samples\n"
     ]
    },
    {
     "name": "stderr",
     "output_type": "stream",
     "text": [
      "100%|█████████████████████████████████████████| 100/100 [03:44<00:00,  2.25s/it]\n"
     ]
    },
    {
     "name": "stdout",
     "output_type": "stream",
     "text": [
      "[gpt2] Final average perplexity: 231.87865703582764\n",
      "The power of GPT2_gpt2 on WN18RR (100 samples) is: [5.679031670300344e-09]\n",
      "[gpt2] Calculating perplexity for 100 samples\n"
     ]
    },
    {
     "name": "stderr",
     "output_type": "stream",
     "text": [
      "100%|█████████████████████████████████████████| 100/100 [03:39<00:00,  2.19s/it]\n"
     ]
    },
    {
     "name": "stdout",
     "output_type": "stream",
     "text": [
      "[gpt2] Final average perplexity: 128.71190700531005\n",
      "[gpt2] Calculating perplexity for 100 samples\n"
     ]
    },
    {
     "name": "stderr",
     "output_type": "stream",
     "text": [
      "100%|█████████████████████████████████████████| 100/100 [03:44<00:00,  2.24s/it]\n"
     ]
    },
    {
     "name": "stdout",
     "output_type": "stream",
     "text": [
      "[gpt2] Final average perplexity: 262.4229849243164\n",
      "The power of GPT2_gpt2 on WN18RR (100 samples) is: [2.7092607960722905e-09]\n",
      "[gpt2] Calculating perplexity for 100 samples\n"
     ]
    },
    {
     "name": "stderr",
     "output_type": "stream",
     "text": [
      "100%|█████████████████████████████████████████| 100/100 [03:36<00:00,  2.16s/it]\n"
     ]
    },
    {
     "name": "stdout",
     "output_type": "stream",
     "text": [
      "[gpt2] Final average perplexity: 120.11501462936401\n",
      "[gpt2] Calculating perplexity for 100 samples\n"
     ]
    },
    {
     "name": "stderr",
     "output_type": "stream",
     "text": [
      "100%|█████████████████████████████████████████| 100/100 [03:45<00:00,  2.26s/it]\n"
     ]
    },
    {
     "name": "stdout",
     "output_type": "stream",
     "text": [
      "[gpt2] Final average perplexity: 269.4562979888916\n",
      "The power of GPT2_gpt2 on WN18RR (100 samples) is: [4.783449932503884e-07]\n",
      "[gpt2-large] Calculating perplexity for 100 samples\n"
     ]
    },
    {
     "name": "stderr",
     "output_type": "stream",
     "text": [
      "100%|█████████████████████████████████████████| 100/100 [09:31<00:00,  5.71s/it]\n"
     ]
    },
    {
     "name": "stdout",
     "output_type": "stream",
     "text": [
      "[gpt2-large] Final average perplexity: 88.68714023590088\n",
      "[gpt2-large] Calculating perplexity for 100 samples\n"
     ]
    },
    {
     "name": "stderr",
     "output_type": "stream",
     "text": [
      "100%|█████████████████████████████████████████| 100/100 [10:34<00:00,  6.35s/it]\n"
     ]
    },
    {
     "name": "stdout",
     "output_type": "stream",
     "text": [
      "[gpt2-large] Final average perplexity: 198.3176099395752\n",
      "The power of GPT2_gpt2-large on WN18RR (100 samples) is: [4.5605785245550474e-10]\n",
      "[gpt2-large] Calculating perplexity for 100 samples\n"
     ]
    },
    {
     "name": "stderr",
     "output_type": "stream",
     "text": [
      "100%|█████████████████████████████████████████| 100/100 [09:37<00:00,  5.77s/it]\n"
     ]
    },
    {
     "name": "stdout",
     "output_type": "stream",
     "text": [
      "[gpt2-large] Final average perplexity: 94.76484741210938\n",
      "[gpt2-large] Calculating perplexity for 100 samples\n"
     ]
    },
    {
     "name": "stderr",
     "output_type": "stream",
     "text": [
      "100%|█████████████████████████████████████████| 100/100 [10:12<00:00,  6.13s/it]\n"
     ]
    },
    {
     "name": "stdout",
     "output_type": "stream",
     "text": [
      "[gpt2-large] Final average perplexity: 215.50657917022704\n",
      "The power of GPT2_gpt2-large on WN18RR (100 samples) is: [5.934364137545522e-09]\n",
      "[gpt2-large] Calculating perplexity for 100 samples\n"
     ]
    },
    {
     "name": "stderr",
     "output_type": "stream",
     "text": [
      "100%|█████████████████████████████████████████| 100/100 [09:42<00:00,  5.82s/it]\n"
     ]
    },
    {
     "name": "stdout",
     "output_type": "stream",
     "text": [
      "[gpt2-large] Final average perplexity: 99.8258828163147\n",
      "[gpt2-large] Calculating perplexity for 100 samples\n"
     ]
    },
    {
     "name": "stderr",
     "output_type": "stream",
     "text": [
      "100%|█████████████████████████████████████████| 100/100 [10:12<00:00,  6.12s/it]\n"
     ]
    },
    {
     "name": "stdout",
     "output_type": "stream",
     "text": [
      "[gpt2-large] Final average perplexity: 197.05186338424681\n",
      "The power of GPT2_gpt2-large on WN18RR (100 samples) is: [2.4035290283326313e-08]\n",
      "[gpt2-large] Calculating perplexity for 100 samples\n"
     ]
    },
    {
     "name": "stderr",
     "output_type": "stream",
     "text": [
      "100%|█████████████████████████████████████████| 100/100 [09:33<00:00,  5.73s/it]\n"
     ]
    },
    {
     "name": "stdout",
     "output_type": "stream",
     "text": [
      "[gpt2-large] Final average perplexity: 106.10086650848389\n",
      "[gpt2-large] Calculating perplexity for 100 samples\n"
     ]
    },
    {
     "name": "stderr",
     "output_type": "stream",
     "text": [
      "100%|█████████████████████████████████████████| 100/100 [09:27<00:00,  5.67s/it]\n"
     ]
    },
    {
     "name": "stdout",
     "output_type": "stream",
     "text": [
      "[gpt2-large] Final average perplexity: 196.9688438606262\n",
      "The power of GPT2_gpt2-large on WN18RR (100 samples) is: [1.663230042189825e-06]\n",
      "[gpt2-large] Calculating perplexity for 100 samples\n"
     ]
    },
    {
     "name": "stderr",
     "output_type": "stream",
     "text": [
      "100%|█████████████████████████████████████████| 100/100 [09:51<00:00,  5.92s/it]\n"
     ]
    },
    {
     "name": "stdout",
     "output_type": "stream",
     "text": [
      "[gpt2-large] Final average perplexity: 84.04429103851318\n",
      "[gpt2-large] Calculating perplexity for 100 samples\n"
     ]
    },
    {
     "name": "stderr",
     "output_type": "stream",
     "text": [
      "100%|█████████████████████████████████████████| 100/100 [10:24<00:00,  6.24s/it]\n"
     ]
    },
    {
     "name": "stdout",
     "output_type": "stream",
     "text": [
      "[gpt2-large] Final average perplexity: 189.95933629989625\n",
      "The power of GPT2_gpt2-large on WN18RR (100 samples) is: [1.6929017173089404e-08]\n",
      "[gpt2-large] Calculating perplexity for 100 samples\n"
     ]
    },
    {
     "name": "stderr",
     "output_type": "stream",
     "text": [
      "100%|█████████████████████████████████████████| 100/100 [09:59<00:00,  5.99s/it]\n"
     ]
    },
    {
     "name": "stdout",
     "output_type": "stream",
     "text": [
      "[gpt2-large] Final average perplexity: 88.21328351974488\n",
      "[gpt2-large] Calculating perplexity for 100 samples\n"
     ]
    },
    {
     "name": "stderr",
     "output_type": "stream",
     "text": [
      "100%|█████████████████████████████████████████| 100/100 [09:55<00:00,  5.96s/it]\n"
     ]
    },
    {
     "name": "stdout",
     "output_type": "stream",
     "text": [
      "[gpt2-large] Final average perplexity: 208.18797843933106\n",
      "The power of GPT2_gpt2-large on WN18RR (100 samples) is: [1.1063248558545315e-09]\n",
      "[gpt2-large] Calculating perplexity for 100 samples\n"
     ]
    },
    {
     "name": "stderr",
     "output_type": "stream",
     "text": [
      "100%|█████████████████████████████████████████| 100/100 [09:21<00:00,  5.62s/it]\n"
     ]
    },
    {
     "name": "stdout",
     "output_type": "stream",
     "text": [
      "[gpt2-large] Final average perplexity: 86.4182886505127\n",
      "[gpt2-large] Calculating perplexity for 100 samples\n"
     ]
    },
    {
     "name": "stderr",
     "output_type": "stream",
     "text": [
      "100%|█████████████████████████████████████████| 100/100 [10:00<00:00,  6.00s/it]\n"
     ]
    },
    {
     "name": "stdout",
     "output_type": "stream",
     "text": [
      "[gpt2-large] Final average perplexity: 201.99212032318115\n",
      "The power of GPT2_gpt2-large on WN18RR (100 samples) is: [7.28010950980357e-12]\n",
      "[gpt2-large] Calculating perplexity for 100 samples\n"
     ]
    },
    {
     "name": "stderr",
     "output_type": "stream",
     "text": [
      "100%|█████████████████████████████████████████| 100/100 [09:00<00:00,  5.40s/it]\n"
     ]
    },
    {
     "name": "stdout",
     "output_type": "stream",
     "text": [
      "[gpt2-large] Final average perplexity: 102.01259660720825\n",
      "[gpt2-large] Calculating perplexity for 100 samples\n"
     ]
    },
    {
     "name": "stderr",
     "output_type": "stream",
     "text": [
      "100%|█████████████████████████████████████████| 100/100 [10:02<00:00,  6.03s/it]\n"
     ]
    },
    {
     "name": "stdout",
     "output_type": "stream",
     "text": [
      "[gpt2-large] Final average perplexity: 193.02135578155517\n",
      "The power of GPT2_gpt2-large on WN18RR (100 samples) is: [4.3085108263151995e-07]\n",
      "[gpt2-large] Calculating perplexity for 100 samples\n"
     ]
    },
    {
     "name": "stderr",
     "output_type": "stream",
     "text": [
      "100%|█████████████████████████████████████████| 100/100 [09:34<00:00,  5.74s/it]\n"
     ]
    },
    {
     "name": "stdout",
     "output_type": "stream",
     "text": [
      "[gpt2-large] Final average perplexity: 86.31995344161987\n",
      "[gpt2-large] Calculating perplexity for 100 samples\n"
     ]
    },
    {
     "name": "stderr",
     "output_type": "stream",
     "text": [
      "100%|█████████████████████████████████████████| 100/100 [10:06<00:00,  6.06s/it]\n"
     ]
    },
    {
     "name": "stdout",
     "output_type": "stream",
     "text": [
      "[gpt2-large] Final average perplexity: 190.20263027191163\n",
      "The power of GPT2_gpt2-large on WN18RR (100 samples) is: [4.0995414623473205e-11]\n",
      "[gpt2-large] Calculating perplexity for 100 samples\n"
     ]
    },
    {
     "name": "stderr",
     "output_type": "stream",
     "text": [
      "100%|█████████████████████████████████████████| 100/100 [09:39<00:00,  5.80s/it]\n"
     ]
    },
    {
     "name": "stdout",
     "output_type": "stream",
     "text": [
      "[gpt2-large] Final average perplexity: 75.52247683525086\n",
      "[gpt2-large] Calculating perplexity for 100 samples\n"
     ]
    },
    {
     "name": "stderr",
     "output_type": "stream",
     "text": [
      "100%|█████████████████████████████████████████| 100/100 [10:13<00:00,  6.13s/it]"
     ]
    },
    {
     "name": "stdout",
     "output_type": "stream",
     "text": [
      "[gpt2-large] Final average perplexity: 218.0184139251709\n",
      "The power of GPT2_gpt2-large on WN18RR (100 samples) is: [6.385027232207237e-08]\n"
     ]
    },
    {
     "name": "stderr",
     "output_type": "stream",
     "text": [
      "\n"
     ]
    }
   ],
   "source": [
    "p_roberta = model_roberta.experiment(graph, 10, 100)\n",
    "p_bert = model_bert.experiment(graph, 10, 100)\n",
    "p_gpt2 = model_gpt2.experiment(graph, 10, 100)\n",
    "p_gpt2_large = model_gpt2_large.experiment(graph, 10, 100)"
   ]
  },
  {
   "cell_type": "code",
   "execution_count": 18,
   "id": "IEduVs6Krc2t",
   "metadata": {
    "id": "IEduVs6Krc2t"
   },
   "outputs": [
    {
     "name": "stdout",
     "output_type": "stream",
     "text": [
      "BERT_bert-base-cased_WN18RR [2.8020855654313685e-05, 0.00014197123511380412, 0.0020726152150215334, 1.307410469960596e-05, 6.011171976307082e-07, 0.009671182359854077, 1.1607886912414553e-06, 0.00045780535746826385, 5.447298681188493e-06, 0.03380851271584999]\n",
      "BERT_roberta-base_WN18RR [1.8014830916470984e-06, 1.627468685174657e-07, 1.437679725367442e-06, 6.348559160717892e-07, 1.1080528811541643e-05, 2.540864612751671e-07, 0.0001089464846417844, 5.028971964252379e-06, 0.0013610815292947299, 2.8365728705132254e-08]\n",
      "GPT2_gpt2_WN18RR [1.6604375662784195e-10, 2.1031059156488774e-06, 5.276920692177161e-09, 5.760071648322395e-08, 1.2318150000772744e-09, 2.0129428168731683e-06, 3.8853178472387463e-08, 5.679031670300344e-09, 2.7092607960722905e-09, 4.783449932503884e-07]\n",
      "GPT2_gpt2-large_WN18RR [4.5605785245550474e-10, 5.934364137545522e-09, 2.4035290283326313e-08, 1.663230042189825e-06, 1.6929017173089404e-08, 1.1063248558545315e-09, 7.28010950980357e-12, 4.3085108263151995e-07, 4.0995414623473205e-11, 6.385027232207237e-08]\n"
     ]
    },
    {
     "data": {
      "image/png": "[encoded data removed]",
      "text/plain": [
       "<Figure size 1440x1440 with 1 Axes>"
      ]
     },
     "execution_count": 18,
     "metadata": {},
     "output_type": "execute_result"
    },
    {
     "data": {
      "image/png": "[encoded data removed]",
      "text/plain": [
       "<Figure size 1440x1440 with 1 Axes>"
      ]
     },
     "metadata": {},
     "output_type": "display_data"
    }
   ],
   "source": [
    "utils.plot_results([(\"BERT_bert-base-cased\", \"WN18RR\"),('BERT_roberta-base', 'WN18RR'), ('GPT2_gpt2', 'WN18RR'), ('GPT2_gpt2-large', 'WN18RR')], 10, 100)\n",
    "\n",
    "\n"
   ]
  },
  {
   "cell_type": "code",
   "execution_count": null,
   "id": "a3605403",
   "metadata": {},
   "outputs": [],
   "source": []
  }
 ],
 "metadata": {
  "accelerator": "GPU",
  "colab": {
   "collapsed_sections": [],
   "machine_shape": "hm",
   "name": "Proof of Concept.ipynb",
   "provenance": []
  },
  "kernelspec": {
   "display_name": "cs224u",
   "language": "python",
   "name": "cs224u"
  },
  "language_info": {
   "codemirror_mode": {
    "name": "ipython",
    "version": 3
   },
   "file_extension": ".py",
   "mimetype": "text/x-python",
   "name": "python",
   "nbconvert_exporter": "python",
   "pygments_lexer": "ipython3",
   "version": "3.9.7"
  }
 },
 "nbformat": 4,
 "nbformat_minor": 5
}
