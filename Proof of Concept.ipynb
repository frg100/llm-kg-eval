{
 "cells": [
  {
   "cell_type": "code",
   "execution_count": 98,
   "id": "875ff397",
   "metadata": {},
   "outputs": [],
   "source": [
    "import os\n",
    "import json\n",
    "import time\n",
    "\n",
    "import numpy as np\n",
    "import pandas as pd\n",
    "import torch\n",
    "from tqdm import tqdm"
   ]
  },
  {
   "cell_type": "markdown",
   "id": "be3b21e4",
   "metadata": {},
   "source": [
    "### KnowledgeGraph framework"
   ]
  },
  {
   "cell_type": "code",
   "execution_count": 83,
   "id": "215811ca",
   "metadata": {},
   "outputs": [],
   "source": [
    "from abc import ABC, abstractmethod\n",
    "\n",
    "class KnowledgeGraph(ABC):\n",
    "    def __init__(self, name=None, verbose = 0):\n",
    "        self._name = name\n",
    "        self._verbose = verbose\n",
    "        \n",
    "        self._entities = [] # list(string)\n",
    "        self._relations = [] # list(string)\n",
    "        # np.array([(head_entity, relation, tail_entity)])\n",
    "        self._triples = np.zeros(shape=(0,3))\n",
    "        \n",
    "        self._built = False\n",
    "        \n",
    "    ####### PUBLIC #######\n",
    "    @property\n",
    "    def name(self):\n",
    "        return self._name\n",
    "    \n",
    "    @property\n",
    "    def entities(self):\n",
    "        return self._entities\n",
    "    \n",
    "    @property\n",
    "    def relations(self):\n",
    "        return self._relations\n",
    "    \n",
    "    @property\n",
    "    def triples(self):\n",
    "        return self._triples\n",
    "    \n",
    "    def sample(self, k=1, negative=False):\n",
    "        if negative:\n",
    "            return self._sample_negative_loose(k)\n",
    "        else:\n",
    "            return self._sample_positive(k)\n",
    "        \n",
    "    def sample_english(self, k=1, negative=False):\n",
    "        samples = self.sample(k, negative)\n",
    "        \n",
    "        english_samples = []\n",
    "        for sample in samples:\n",
    "            head_idx, relation_idx, tail_idx = sample\n",
    "            head_id, relation_id, tail_id = self._entities[head_idx], self._relations[relation_idx], self._entities[tail_idx]\n",
    "            head, relation, tail = self._id2entity(head_id), self._id2relation(relation_id), self._id2entity(tail_id)\n",
    "            english_samples.append(relation.replace(\"{HEAD}\", head).replace(\"{TAIL}\", tail))\n",
    "            \n",
    "        return english_samples\n",
    "            \n",
    "        \n",
    "    ####### PRIVATE #######\n",
    "    \n",
    "    @abstractmethod\n",
    "    def _id2entity(self, eid):\n",
    "        \"\"\"\n",
    "        A function that maps an entity id (eid) stored in the\n",
    "        self._entities structure to an english identifier\n",
    "        and/or description.\n",
    "        \"\"\"\n",
    "        \n",
    "    @abstractmethod\n",
    "    def _id2relation(self, rid):\n",
    "        \"\"\"\n",
    "        A function that maps an relation id (rid) stored in\n",
    "        the self._relations structure to an english identifier\n",
    "        and/or description.\n",
    "        \"\"\"\n",
    "    \n",
    "    @abstractmethod\n",
    "    def _build_graph(self):\n",
    "        \"\"\"\n",
    "        A function that builds the graph by reading in the data in\n",
    "        its current format and populating self._entities, self._relations,\n",
    "        self._triples, and at the end should set self._built to True.\n",
    "        \"\"\"\n",
    "        pass\n",
    "    \n",
    "    @property\n",
    "    def _is_built(self):\n",
    "        return self._built\n",
    "    \n",
    "    @property\n",
    "    def _num_entities(self):\n",
    "        return len(self._entities)\n",
    "    \n",
    "    @property\n",
    "    def _num_relations(self):\n",
    "        return len(self._relations)\n",
    "    \n",
    "    @property\n",
    "    def _num_triples(self):\n",
    "        return self._triples.shape[0]\n",
    "    \n",
    "    def _validate_graph(self):\n",
    "        # Make sure properties are filled out\n",
    "        assert self._built, \"The graph is not built. Please build \" \\\n",
    "        \"or check that your build_graph method sets self._build \" \\\n",
    "        \"to True after completion\"\n",
    "        \n",
    "        # Make sure shape of self._triples is [N, 3]\n",
    "        assert self._triples.shape[1] == 3, \"The _triples property\" \\\n",
    "        \"must have a shape of 3 in the second dimension. \" \\\n",
    "        \n",
    "        # Make sure all head, tail entities and relations are valid\n",
    "        head_entities = self._triples[:,0]\n",
    "        assert head_entities.max() <= len(self._entities), \"There\" \\\n",
    "        \"exists an entity in the head entities of the _triples \" \\\n",
    "        \"property that exceeds the number of available entities.\" \\\n",
    "        \n",
    "        tail_entities = self._triples[:,2]\n",
    "        assert tail_entities.max() <= len(self._entities), \"There \" \\\n",
    "        \"exists an entity in the tail entities of the _triples \" \\\n",
    "        \"property that exceeds the number of available entities.\" \\\n",
    "        \n",
    "        relations = self._triples[:,1]\n",
    "        assert relations.max() <= len(self._relations), \"There \" \\\n",
    "        \"exists an relations in the _triples \" \\\n",
    "        \"property that exceeds the number of available relations.\" \\\n",
    "        \n",
    "        for eid in self._entities:\n",
    "            assert self._id2entity(eid), f\"One of the entities ({eid}) \" \\\n",
    "            \"has no mapping.\"\n",
    "            \n",
    "        for rid in self._relations:\n",
    "            assert self._id2relation(rid), f\"One of the relations ({rid}) \" \\\n",
    "            \"has no mapping.\"\n",
    "            \n",
    "        assert self.sample(10).shape == (10, 3), \"Sampling yields the \" \\\n",
    "            \"wrong shape\"\n",
    "        \n",
    "        assert self.sample(10, negative=True).shape == (10, 3), \"Sampling \" \\\n",
    "            \"yields the wrong shape\"\n",
    "        \n",
    "        if self._verbose >= 1:\n",
    "            print(\"Graph was successfully validated!\")\n",
    "        \n",
    "    def _sample_positive(self, k):\n",
    "        triple_indices = np.random.choice(self._num_triples, k)\n",
    "        positive_samples = self._triples[triple_indices]\n",
    "        \n",
    "        return positive_samples\n",
    "    \n",
    "    def _sample_negative_loose(self, k):\n",
    "        # TODO(frg100): Make a strict version that makes sure not to\n",
    "        # add existing triples\n",
    "        head_entities = np.expand_dims(np.random.choice(self._num_entities, k), 0)\n",
    "        relations = np.expand_dims(np.random.choice(self._num_relations, k), 0)\n",
    "        tail_entities = np.expand_dims(np.random.choice(self._num_entities, k), 0)\n",
    "        \n",
    "        negative_samples = np.concatenate([head_entities, relations, tail_entities], axis=0).T\n",
    "        \n",
    "        return negative_samples\n",
    "    \n",
    "    def _load_json_mapping(self, json_path):\n",
    "        # Load the map\n",
    "        with open(json_path) as json_file:\n",
    "            return json.load(json_file)\n",
    "    \n",
    "    "
   ]
  },
  {
   "cell_type": "code",
   "execution_count": 84,
   "id": "dae20f01",
   "metadata": {},
   "outputs": [],
   "source": [
    "class FB15k237(KnowledgeGraph):\n",
    "    def __init__(self, base_path=None, splits=['train', 'test', 'valid'], verbose = 0):\n",
    "        super().__init__(name='FB15k-237', verbose = verbose)\n",
    "        \n",
    "        self._base_path = base_path\n",
    "        self._splits = splits\n",
    "        \n",
    "        self._entity_mapping = None\n",
    "        \n",
    "        start = time.time()\n",
    "        self._build_graph(verbose)\n",
    "        end = time.time()\n",
    "        if verbose >= 1:\n",
    "            print(f\"Building the graph took {round(end-start)} seconds\")    \n",
    "        \n",
    "            \n",
    "    def _id2entity(self, eid):\n",
    "        if self._entity_mapping is None:\n",
    "            assert False, \"Entity mapping must be populated\"\n",
    "            \n",
    "        if eid not in self._entity_mapping:\n",
    "            #print(f\"Entity with id ({eid}) is not mapped...\")\n",
    "            return None\n",
    "            \n",
    "        return self._entity_mapping[eid]['label']\n",
    "    \n",
    "    def _id2relation(self, rid):\n",
    "        if self._relation_mapping is None:\n",
    "            assert False, \"Relation mapping must be populated\"\n",
    "            \n",
    "        if rid not in self._relation_mapping:\n",
    "            #print(f\"Relation with id ({rid}) is not mapped...\")\n",
    "            return None\n",
    "            \n",
    "        return self._relation_mapping[rid]\n",
    "\n",
    "    def _build_graph(self, verbose):\n",
    "        # Load the mappings\n",
    "        id2entity_path = os.path.join(self._base_path, \"entity2wikidata.json\")\n",
    "        self._entity_mapping = self._load_json_mapping(id2entity_path)\n",
    "        id2relation_path = os.path.join(self._base_path, \"relation_mapping.json\")\n",
    "        self._relation_mapping = self._load_json_mapping(id2relation_path)\n",
    "        \n",
    "        # Initialize data structures for bookkeeping\n",
    "        entities = set()\n",
    "        relations = set()\n",
    "        triples = set()\n",
    "\n",
    "        num_data_points = sum(sum(1 for line in open(os.path.join(self._base_path, f\"{split}.txt\"))) for split in self._splits)\n",
    "        \n",
    "        # Load data\n",
    "        for split in self._splits:\n",
    "            path = os.path.join(self._base_path, f\"{split}.txt\")\n",
    "            if verbose >= 1:\n",
    "                print(f\"Loading file {split}.txt\")\n",
    "                \n",
    "            # Process into entities, relations, and triples\n",
    "            with open(path, 'r') as f:\n",
    "                for line in f:\n",
    "                    # Check progress\n",
    "                    last_percent_done = round((100*(self._num_triples-1))/num_data_points)\n",
    "                    percent_done = round((100*self._num_triples)/num_data_points)\n",
    "                    if verbose >= 2 and percent_done % 5 == 0 and last_percent_done % 5 != 0:\n",
    "                        print(f\"Data loading progress: [{percent_done}%]\")\n",
    "                    \n",
    "                    # Initialize data\n",
    "                    head, relation, tail = line.split()\n",
    "                    head_id, relation_id, tail_id = None, None, None\n",
    "                    \n",
    "                    # If either of the entities has no natural language translation,\n",
    "                    if not self._id2entity(head) or not self._id2entity(tail):\n",
    "                        # Don't process it\n",
    "                        continue\n",
    "                    \n",
    "                    if verbose >= 3 and percent_done % 5 == 0 and last_percent_done % 5 != 0:\n",
    "                        print(f\"{self._id2entity(head)} {relation} {self._id2entity(tail)}\")\n",
    "                    \n",
    "                    # Process head\n",
    "                    if head not in entities:\n",
    "                        entities.add(head)\n",
    "                        head_id = len(self._entities)\n",
    "                        self._entities.append(head)\n",
    "                    else:\n",
    "                        head_id = self._entities.index(head)\n",
    "                     \n",
    "                    # Process tail\n",
    "                    if tail not in entities:\n",
    "                        entities.add(tail)\n",
    "                        tail_id = len(self._entities)\n",
    "                        self._entities.append(tail)\n",
    "                    else:\n",
    "                        tail_id = self._entities.index(tail)\n",
    "                        \n",
    "                    # Process relation\n",
    "                    if relation not in relations:\n",
    "                        relations.add(relation)\n",
    "                        relation_id = len(self._relations)\n",
    "                        self._relations.append(relation)\n",
    "                    else:\n",
    "                        relation_id = self._relations.index(relation)\n",
    "\n",
    "                    # Create and add triple\n",
    "                    triple = np.array([[head_id, relation_id, tail_id]], dtype=np.int32)  \n",
    "                    if self._num_triples == 0:\n",
    "                        self._triples = triple\n",
    "                    else:\n",
    "                        self._triples = np.append(self._triples, triple, axis=0)\n",
    "                        \n",
    "        # Build and validate\n",
    "        self._built = True\n",
    "        self._validate_graph()"
   ]
  },
  {
   "cell_type": "markdown",
   "id": "3141de12",
   "metadata": {},
   "source": [
    "### Modeling Framework"
   ]
  },
  {
   "cell_type": "code",
   "execution_count": 85,
   "id": "852b1801",
   "metadata": {},
   "outputs": [],
   "source": [
    "import transformers\n",
    "from happytransformer import HappyTextToText, TTSettings\n",
    "\n",
    "class LargeLanguageModel(ABC):\n",
    "    def __init__(self, name=None, verbose = 0):\n",
    "        self._name = name\n",
    "        self._verbose = verbose\n",
    "        \n",
    "        self._grammar_model = HappyTextToText(\"T5\", \"vennify/t5-base-grammar-correction\")\n",
    "        self._grammar_model_args = TTSettings(num_beams=5, min_length=1)\n",
    "        \n",
    "        self._built = False\n",
    "        \n",
    "    ####### PUBLIC #######\n",
    "    @property\n",
    "    def name(self):\n",
    "        return self._name\n",
    "    \n",
    "    def correct_grammar(self, sentence):\n",
    "        return self._grammar_model.generate_text(f\"grammar: {sentence}\", args=self._grammar_model_args).text\n",
    "    \n",
    "    ####### PRIVATE #######\n",
    "    \n",
    "    @abstractmethod\n",
    "    def batch_perplexity(self, eid):\n",
    "        \"\"\"\n",
    "        A function that calculates a batch perplexity for a set of\n",
    "        samples.\n",
    "        \"\"\"\n",
    "        \n",
    "    @property\n",
    "    def _is_built(self):\n",
    "        return self._built"
   ]
  },
  {
   "cell_type": "code",
   "execution_count": 99,
   "id": "d0e9d617",
   "metadata": {},
   "outputs": [],
   "source": [
    "from transformers import GPT2LMHeadModel, GPT2TokenizerFast\n",
    "\n",
    "class GPT2(LargeLanguageModel):\n",
    "    def __init__(self, model_id=\"gpt2\", verbose = 0):\n",
    "        super().__init__(name='GPT2', verbose = verbose)\n",
    "        \n",
    "        self._model_id = model_id\n",
    "        self._model = GPT2LMHeadModel.from_pretrained(self._model_id)\n",
    "        self._tokenizer = GPT2TokenizerFast.from_pretrained(self._model_id)\n",
    "        \n",
    "        self._verbose = verbose\n",
    "        \n",
    "        self._built = True\n",
    "        \n",
    "    def batch_perplexity(self, samples):\n",
    "        if self._verbose >= 1:\n",
    "            print(f\"[{self._model_id}] Calculating perplexity for {len(samples)} samples\")\n",
    "        perplexities = []\n",
    "        for sample in tqdm(samples):\n",
    "            sample = self.correct_grammar(sample)\n",
    "            encoding = self._tokenizer(sample, return_tensors=\"pt\")\n",
    "            num_tokens = encoding.input_ids.shape[1]\n",
    "\n",
    "            nlls = []\n",
    "            for end_loc in range(1, num_tokens):\n",
    "                input_ids = encoding.input_ids[:, 0:end_loc]\n",
    "                target_ids = input_ids.clone()\n",
    "\n",
    "                with torch.no_grad():\n",
    "                    outputs = self._model(input_ids, labels=target_ids)\n",
    "                    neg_log_likelihood = outputs[0] * end_loc\n",
    "\n",
    "            nlls.append(neg_log_likelihood)\n",
    "\n",
    "            perplexity = torch.exp(torch.stack(nlls).sum() / num_tokens)\n",
    "            if self._verbose >= 2:\n",
    "                print(f\"[{self._model_id}] Sample <{sample}> has perplexity [{perplexity}]\")\n",
    "            perplexities.append(perplexity)\n",
    "\n",
    "        if self._verbose >= 1:\n",
    "            print(f\"[{self._model_id}] Final average perplexity: {sum(perplexities)/len(perplexities)}\")\n",
    "\n",
    "        return perplexities "
   ]
  },
  {
   "cell_type": "code",
   "execution_count": 106,
   "id": "a2bc86ba",
   "metadata": {},
   "outputs": [],
   "source": [
    "from transformers import BertForMaskedLM, BertTokenizer\n",
    "from torch.nn import functional as F\n",
    "\n",
    "\n",
    "class BERT(LargeLanguageModel):\n",
    "    def __init__(self, name='BERT', verbose = 0):\n",
    "        super().__init__(name=name, verbose = verbose)\n",
    "        \n",
    "        self._name = name\n",
    "        \n",
    "        self._model_id = 'bert-base-cased'\n",
    "        self._tokenizer = BertTokenizer.from_pretrained(self._model_id)\n",
    "        self._model = BertForMaskedLM.from_pretrained(self._model_id)\n",
    "        \n",
    "        self._verbose = verbose\n",
    "        \n",
    "        self._built = True\n",
    "        \n",
    "    def batch_perplexity(self, samples):\n",
    "        if self._verbose >= 1:\n",
    "            print(f\"[{self._name}] Calculating perplexity for {len(samples)} samples\")\n",
    "        perplexities = []\n",
    "        for sample in tqdm(samples):\n",
    "            sample_english = sample\n",
    "            sample = self.correct_grammar(sample)\n",
    "            \n",
    "            encoding = self._tokenizer(sample, return_tensors=\"pt\")\n",
    "            #encoding = self._tokenizer.encode_plus(\n",
    "            #    sample,\n",
    "            #    add_special_tokens=True,\n",
    "            #    truncation = True,\n",
    "            #    padding = \"max_length\",\n",
    "            #    return_attention_mask = True,\n",
    "            #    return_tensors = \"pt\"\n",
    "            #)\n",
    "            num_tokens = encoding.input_ids.shape[1]\n",
    "            \n",
    "            input_ids = encoding.input_ids\n",
    "            target_ids = input_ids.clone()\n",
    "            \n",
    "            #print(input_ids, input_ids.shape)\n",
    "            \n",
    "            nlls = []\n",
    "            for mask_idx in range(input_ids[0].shape[0]):\n",
    "                masked_input_ids = input_ids.clone()\n",
    "                masked_input_ids[0][mask_idx] = self._tokenizer.mask_token_id\n",
    "                \n",
    "                with torch.no_grad():\n",
    "                    outputs = self._model(input_ids).logits[:,mask_idx,:]\n",
    "                    softmax = F.softmax(outputs, -1)\n",
    "                    \n",
    "                    target_id = target_ids[0][mask_idx]\n",
    "                    nlls.append(softmax[0,target_id])\n",
    "\n",
    "            perplexity = torch.exp((-1/num_tokens)*torch.log(torch.stack(nlls)).sum())\n",
    "            if self._verbose >= 2:\n",
    "                print(f\"[{self._name}] Sample <{sample_english}> has perplexity [{perplexity}]\")\n",
    "            perplexities.append(perplexity)\n",
    "\n",
    "        if self._verbose >= 1:\n",
    "            print(f\"[{self._name}] Final average perplexity: {sum(perplexities)/len(perplexities)}\")\n",
    "\n",
    "        return perplexities "
   ]
  },
  {
   "cell_type": "code",
   "execution_count": 94,
   "id": "c26adad9",
   "metadata": {},
   "outputs": [],
   "source": [
    "import seaborn as sns\n",
    "import matplotlib.pyplot as plt\n",
    "\n",
    "def compare_models(samples, model_a, perplexities_a, model_b, perplexities_b):\n",
    "    f, ax = plt.subplots(figsize=(20,10))\n",
    "    ax.set(yscale=\"log\")\n",
    "\n",
    "    model_one_ppx = np.array([ppx.item() for ppx in perplexities_a])\n",
    "    model_two_ppx = np.array([ppx.item() for ppx in perplexities_b])\n",
    "\n",
    "    sort_order = np.argsort(model_one_ppx).astype(int)\n",
    "\n",
    "    sns.lineplot(x=samples, y=model_one_ppx[sort_order], label=model_a)\n",
    "    sns.lineplot(x=samples, y=model_two_ppx[sort_order], label=model_b)\n",
    "\n",
    "    plt.xticks(rotation=90)\n",
    "\n",
    "    plt.legend()\n",
    "    plt.ylabel('Perplexity')\n",
    "    plt.title(\"Comparing perplexity on sample sentences between two models\")\n",
    "\n",
    "    plt.show()"
   ]
  },
  {
   "cell_type": "code",
   "execution_count": 95,
   "id": "82b681fe",
   "metadata": {},
   "outputs": [],
   "source": [
    "def compare_triples(model, perplexities_pos, perplexities_neg):\n",
    "    f, ax = plt.subplots(figsize=(20,10))\n",
    "    ax.set(xscale=\"log\")\n",
    "\n",
    "    pos_ppx = np.array([ppx.item() for ppx in perplexities_pos])\n",
    "    neg_ppx = np.array([ppx.item() for ppx in perplexities_neg])\n",
    "\n",
    "    sns.distplot(pos_ppx, label=\"POSITIVE\")\n",
    "    sns.distplot(neg_ppx, label=\"NEGATIVE\")\n",
    "\n",
    "    plt.xticks(rotation=90)\n",
    "\n",
    "    plt.legend()\n",
    "    plt.ylabel('Perplexity Density')\n",
    "    plt.title(f\"Comparing perplexity on positive and negative sentences for {model}\")\n",
    "\n",
    "    plt.show()"
   ]
  },
  {
   "cell_type": "markdown",
   "id": "e33b52fe",
   "metadata": {},
   "source": [
    "### Execution"
   ]
  },
  {
   "cell_type": "code",
   "execution_count": 90,
   "id": "d6e05b7e",
   "metadata": {},
   "outputs": [
    {
     "name": "stdout",
     "output_type": "stream",
     "text": [
      "Loading file train.txt\n",
      "Data loading progress: [5%]\n",
      "Data loading progress: [10%]\n",
      "Data loading progress: [15%]\n",
      "Data loading progress: [20%]\n",
      "Data loading progress: [25%]\n",
      "Data loading progress: [30%]\n",
      "Data loading progress: [35%]\n",
      "Data loading progress: [40%]\n",
      "Data loading progress: [45%]\n",
      "Data loading progress: [50%]\n",
      "Data loading progress: [55%]\n",
      "Data loading progress: [60%]\n",
      "Data loading progress: [65%]\n",
      "Data loading progress: [70%]\n",
      "Data loading progress: [75%]\n",
      "Data loading progress: [80%]\n",
      "Data loading progress: [85%]\n",
      "Loading file valid.txt\n",
      "Data loading progress: [90%]\n",
      "Loading file test.txt\n",
      "Data loading progress: [95%]\n",
      "Graph was successfully validated!\n",
      "Building the graph took 56 seconds\n"
     ]
    }
   ],
   "source": [
    "graph = FB15k237(base_path='./data/FB15k-237', splits=['train', 'valid','test'], verbose=2)"
   ]
  },
  {
   "cell_type": "code",
   "execution_count": 107,
   "id": "fb31f656",
   "metadata": {},
   "outputs": [
    {
     "name": "stderr",
     "output_type": "stream",
     "text": [
      "05/27/2022 03:09:16 - INFO - happytransformer.happy_transformer -   Using model: cpu\n",
      "Some weights of the model checkpoint at bert-base-cased were not used when initializing BertForMaskedLM: ['cls.seq_relationship.bias', 'cls.seq_relationship.weight']\n",
      "- This IS expected if you are initializing BertForMaskedLM from the checkpoint of a model trained on another task or with another architecture (e.g. initializing a BertForSequenceClassification model from a BertForPreTraining model).\n",
      "- This IS NOT expected if you are initializing BertForMaskedLM from the checkpoint of a model that you expect to be exactly identical (initializing a BertForSequenceClassification model from a BertForSequenceClassification model).\n"
     ]
    }
   ],
   "source": [
    "#model_gpt2 = GPT2(model_id=\"gpt2\", verbose=2)\n",
    "#model_gpt2_large = GPT2(model_id=\"gpt2-large\", verbose=2)\n",
    "model_bert = BERT(verbose=3)"
   ]
  },
  {
   "cell_type": "code",
   "execution_count": 108,
   "id": "8c8d1027",
   "metadata": {},
   "outputs": [
    {
     "name": "stdout",
     "output_type": "stream",
     "text": [
      "[BERT] Calculating perplexity for 25 samples\n"
     ]
    },
    {
     "name": "stderr",
     "output_type": "stream",
     "text": [
      "  4%|█▊                                          | 1/25 [00:04<01:45,  4.41s/it]"
     ]
    },
    {
     "name": "stdout",
     "output_type": "stream",
     "text": [
      "[BERT] Sample <John C. Reilly appears in the film Gangs of New York> has perplexity [20.703584671020508]\n"
     ]
    },
    {
     "name": "stderr",
     "output_type": "stream",
     "text": [
      "\r",
      "  8%|███▌                                        | 2/25 [00:07<01:29,  3.89s/it]"
     ]
    },
    {
     "name": "stdout",
     "output_type": "stream",
     "text": [
      "[BERT] Sample <Johnny Cash's music is rockabilly> has perplexity [50.52735900878906]\n"
     ]
    },
    {
     "name": "stderr",
     "output_type": "stream",
     "text": [
      "\r",
      " 12%|█████▎                                      | 3/25 [00:12<01:33,  4.24s/it]"
     ]
    },
    {
     "name": "stdout",
     "output_type": "stream",
     "text": [
      "[BERT] Sample <Robin Gibb is signed to the label Bertelsmann Music Group> has perplexity [16.059345245361328]\n"
     ]
    },
    {
     "name": "stderr",
     "output_type": "stream",
     "text": [
      "\r",
      " 16%|███████                                     | 4/25 [00:17<01:34,  4.50s/it]"
     ]
    },
    {
     "name": "stdout",
     "output_type": "stream",
     "text": [
      "[BERT] Sample <There is a forward on the roster of the Eintracht Braunschweig> has perplexity [11.09870719909668]\n"
     ]
    },
    {
     "name": "stderr",
     "output_type": "stream",
     "text": [
      "\r",
      " 20%|████████▊                                   | 5/25 [00:19<01:11,  3.56s/it]"
     ]
    },
    {
     "name": "stdout",
     "output_type": "stream",
     "text": [
      "[BERT] Sample <Maggie Smith lived in London> has perplexity [227.4838409423828]\n"
     ]
    },
    {
     "name": "stderr",
     "output_type": "stream",
     "text": [
      "\r",
      " 24%|██████████▌                                 | 6/25 [00:24<01:14,  3.93s/it]"
     ]
    },
    {
     "name": "stdout",
     "output_type": "stream",
     "text": [
      "[BERT] Sample <Austin Powers: The Spy Who Shagged Me is a parody> has perplexity [15.566831588745117]\n"
     ]
    },
    {
     "name": "stderr",
     "output_type": "stream",
     "text": [
      "\r",
      " 28%|████████████▎                               | 7/25 [00:27<01:09,  3.84s/it]"
     ]
    },
    {
     "name": "stdout",
     "output_type": "stream",
     "text": [
      "[BERT] Sample <The movie Juno hired a make-up artist> has perplexity [24.435379028320312]\n"
     ]
    },
    {
     "name": "stderr",
     "output_type": "stream",
     "text": [
      "\r",
      " 32%|██████████████                              | 8/25 [00:33<01:14,  4.38s/it]"
     ]
    },
    {
     "name": "stdout",
     "output_type": "stream",
     "text": [
      "[BERT] Sample <Brett Ratner is the director of the film \"X-Men: The Last Stand\"> has perplexity [9.852177619934082]\n"
     ]
    },
    {
     "name": "stderr",
     "output_type": "stream",
     "text": [
      "\r",
      " 36%|███████████████▊                            | 9/25 [00:36<01:06,  4.17s/it]"
     ]
    },
    {
     "name": "stdout",
     "output_type": "stream",
     "text": [
      "[BERT] Sample <Sioux City is located in the Central Time Zone> has perplexity [76.8041763305664]\n"
     ]
    },
    {
     "name": "stderr",
     "output_type": "stream",
     "text": [
      "\r",
      " 40%|█████████████████▏                         | 10/25 [00:42<01:08,  4.55s/it]"
     ]
    },
    {
     "name": "stdout",
     "output_type": "stream",
     "text": [
      "[BERT] Sample <Gustavo Cerati was nominated for the Latin Grammy Award for Album of the Year award> has perplexity [12.948718070983887]\n"
     ]
    },
    {
     "name": "stderr",
     "output_type": "stream",
     "text": [
      "\r",
      " 44%|██████████████████▉                        | 11/25 [00:46<01:00,  4.33s/it]"
     ]
    },
    {
     "name": "stdout",
     "output_type": "stream",
     "text": [
      "[BERT] Sample <The endowment of North Dakota State University is measured in United States dollar> has perplexity [15.400239944458008]\n"
     ]
    },
    {
     "name": "stderr",
     "output_type": "stream",
     "text": [
      "\r",
      " 48%|████████████████████▋                      | 12/25 [00:50<00:55,  4.24s/it]"
     ]
    },
    {
     "name": "stdout",
     "output_type": "stream",
     "text": [
      "[BERT] Sample <John Milius was born in United States of America> has perplexity [24.00444221496582]\n"
     ]
    },
    {
     "name": "stderr",
     "output_type": "stream",
     "text": [
      "\r",
      " 52%|██████████████████████▎                    | 13/25 [00:55<00:55,  4.62s/it]"
     ]
    },
    {
     "name": "stdout",
     "output_type": "stream",
     "text": [
      "[BERT] Sample <Alfie was nominated for the Academy Award for Best Supporting Actress award> has perplexity [22.052978515625]\n"
     ]
    },
    {
     "name": "stderr",
     "output_type": "stream",
     "text": [
      "\r",
      " 56%|████████████████████████                   | 14/25 [01:00<00:51,  4.66s/it]"
     ]
    },
    {
     "name": "stdout",
     "output_type": "stream",
     "text": [
      "[BERT] Sample <The 25th United States Congress has a member that represents the district of Indiana> has perplexity [13.877129554748535]\n"
     ]
    },
    {
     "name": "stderr",
     "output_type": "stream",
     "text": [
      "\r",
      " 60%|█████████████████████████▊                 | 15/25 [01:07<00:54,  5.42s/it]"
     ]
    },
    {
     "name": "stdout",
     "output_type": "stream",
     "text": [
      "[BERT] Sample <The actress that won the National Board of Review Award for Best Actor was in the movie The Descendants > has perplexity [5.856125831604004]\n"
     ]
    },
    {
     "name": "stderr",
     "output_type": "stream",
     "text": [
      "\r",
      " 64%|███████████████████████████▌               | 16/25 [01:11<00:44,  4.98s/it]"
     ]
    },
    {
     "name": "stdout",
     "output_type": "stream",
     "text": [
      "[BERT] Sample <Lower Normandy is located next to Upper Normandy> has perplexity [70.44271850585938]\n"
     ]
    },
    {
     "name": "stderr",
     "output_type": "stream",
     "text": [
      "\r",
      " 68%|█████████████████████████████▏             | 17/25 [01:16<00:39,  4.96s/it]"
     ]
    },
    {
     "name": "stdout",
     "output_type": "stream",
     "text": [
      "[BERT] Sample <6th United States Congress contains members that participated in the 7th United States Congress> has perplexity [13.129424095153809]\n"
     ]
    },
    {
     "name": "stderr",
     "output_type": "stream",
     "text": [
      "\r",
      " 72%|██████████████████████████████▉            | 18/25 [01:20<00:32,  4.66s/it]"
     ]
    },
    {
     "name": "stdout",
     "output_type": "stream",
     "text": [
      "[BERT] Sample <The domestic tuition of the Wesleyan University is measured in United States dollar> has perplexity [13.086652755737305]\n"
     ]
    },
    {
     "name": "stderr",
     "output_type": "stream",
     "text": [
      "\r",
      " 76%|████████████████████████████████▋          | 19/25 [01:25<00:28,  4.76s/it]"
     ]
    },
    {
     "name": "stdout",
     "output_type": "stream",
     "text": [
      "[BERT] Sample <Emile Kuri was the film set designer of It's a Wonderful Life> has perplexity [12.597039222717285]\n"
     ]
    },
    {
     "name": "stderr",
     "output_type": "stream",
     "text": [
      "\r",
      " 80%|██████████████████████████████████▍        | 20/25 [01:30<00:24,  4.96s/it]"
     ]
    },
    {
     "name": "stdout",
     "output_type": "stream",
     "text": [
      "[BERT] Sample <Megan McTavish was nominated for an award for Guiding Light> has perplexity [12.731600761413574]\n"
     ]
    },
    {
     "name": "stderr",
     "output_type": "stream",
     "text": [
      "\r",
      " 84%|████████████████████████████████████       | 21/25 [01:36<00:20,  5.02s/it]"
     ]
    },
    {
     "name": "stdout",
     "output_type": "stream",
     "text": [
      "[BERT] Sample <There is a defender on the roster of the Galatasaray S.K.> has perplexity [10.6641845703125]\n"
     ]
    },
    {
     "name": "stderr",
     "output_type": "stream",
     "text": [
      "\r",
      " 88%|█████████████████████████████████████▊     | 22/25 [01:39<00:13,  4.47s/it]"
     ]
    },
    {
     "name": "stdout",
     "output_type": "stream",
     "text": [
      "[BERT] Sample <The language of the film Naked Lunch is Arabic> has perplexity [21.421037673950195]\n"
     ]
    },
    {
     "name": "stderr",
     "output_type": "stream",
     "text": [
      "\r",
      " 92%|███████████████████████████████████████▌   | 23/25 [01:44<00:09,  4.58s/it]"
     ]
    },
    {
     "name": "stdout",
     "output_type": "stream",
     "text": [
      "[BERT] Sample <The Grammy Award for Best Small Ensemble Performance award is a kind of Grammy Award> has perplexity [13.793865203857422]\n"
     ]
    },
    {
     "name": "stderr",
     "output_type": "stream",
     "text": [
      "\r",
      " 96%|█████████████████████████████████████████▎ | 24/25 [01:50<00:05,  5.21s/it]"
     ]
    },
    {
     "name": "stdout",
     "output_type": "stream",
     "text": [
      "[BERT] Sample <The actress that won the Golden Globe Award for Best Foreign Language Film was in the movie The Sea Inside > has perplexity [6.59257173538208]\n"
     ]
    },
    {
     "name": "stderr",
     "output_type": "stream",
     "text": [
      "100%|███████████████████████████████████████████| 25/25 [01:58<00:00,  4.72s/it]"
     ]
    },
    {
     "name": "stdout",
     "output_type": "stream",
     "text": [
      "[BERT] Sample <John Gielgud has been nominated for an award along with Armin Mueller-Stahl> has perplexity [7.353515148162842]\n",
      "[BERT] Final average perplexity: 29.13934898376465\n"
     ]
    },
    {
     "name": "stderr",
     "output_type": "stream",
     "text": [
      "\n"
     ]
    }
   ],
   "source": [
    "#samples = graph.sample_english(25)\n",
    "#gpt2_pos_perplexity = model_gpt2.batch_perplexity(samples)\n",
    "#gpt2_large_pos_perplexity = model_gpt2_large.batch_perplexity(samples)\n",
    "bert_pos_perplexity = model_bert.batch_perplexity(samples)"
   ]
  },
  {
   "cell_type": "code",
   "execution_count": null,
   "id": "25c07c47",
   "metadata": {},
   "outputs": [
    {
     "name": "stdout",
     "output_type": "stream",
     "text": [
      "[BERT] Calculating perplexity for 25 samples\n"
     ]
    },
    {
     "name": "stderr",
     "output_type": "stream",
     "text": [
      "  4%|█▊                                          | 1/25 [00:05<02:07,  5.30s/it]"
     ]
    },
    {
     "name": "stdout",
     "output_type": "stream",
     "text": [
      "[BERT] Sample <David S. Goyer is a prequel of Grammy Award for Best Music Film> has perplexity [10.897078514099121]\n"
     ]
    },
    {
     "name": "stderr",
     "output_type": "stream",
     "text": [
      "\r",
      "  8%|███▌                                        | 2/25 [00:07<01:18,  3.43s/it]"
     ]
    },
    {
     "name": "stdout",
     "output_type": "stream",
     "text": [
      "[BERT] Sample <Algiers is a Suzhou> has perplexity [97.94026184082031]\n"
     ]
    },
    {
     "name": "stderr",
     "output_type": "stream",
     "text": [
      "\r",
      " 12%|█████▎                                      | 3/25 [00:11<01:18,  3.57s/it]"
     ]
    },
    {
     "name": "stdout",
     "output_type": "stream",
     "text": [
      "[BERT] Sample <The group Satyen Kappu usually has a Sheila E.> has perplexity [11.067286491394043]\n"
     ]
    },
    {
     "name": "stderr",
     "output_type": "stream",
     "text": [
      "\r",
      " 16%|███████                                     | 4/25 [00:13<01:05,  3.14s/it]"
     ]
    },
    {
     "name": "stdout",
     "output_type": "stream",
     "text": [
      "[BERT] Sample <The movie The Avengers was edited by Timeline> has perplexity [32.22820281982422]\n"
     ]
    },
    {
     "name": "stderr",
     "output_type": "stream",
     "text": [
      "\r",
      " 20%|████████▊                                   | 5/25 [00:18<01:16,  3.82s/it]"
     ]
    },
    {
     "name": "stdout",
     "output_type": "stream",
     "text": [
      "[BERT] Sample <The 'N Sync award is a kind of Mako Iwamatsu> has perplexity [8.464871406555176]\n"
     ]
    },
    {
     "name": "stderr",
     "output_type": "stream",
     "text": [
      "\r",
      " 24%|██████████▌                                 | 6/25 [00:21<01:07,  3.56s/it]"
     ]
    },
    {
     "name": "stdout",
     "output_type": "stream",
     "text": [
      "[BERT] Sample <Harry Andrews's instrument was the Chris Cornell> has perplexity [24.595664978027344]\n"
     ]
    },
    {
     "name": "stderr",
     "output_type": "stream",
     "text": [
      "\r",
      " 28%|████████████▎                               | 7/25 [00:25<01:05,  3.61s/it]"
     ]
    },
    {
     "name": "stdout",
     "output_type": "stream",
     "text": [
      "[BERT] Sample <The group Kamloops usually has a Hank Williams Jr.> has perplexity [12.801892280578613]\n"
     ]
    },
    {
     "name": "stderr",
     "output_type": "stream",
     "text": [
      "\r",
      " 32%|██████████████                              | 8/25 [00:31<01:15,  4.46s/it]"
     ]
    },
    {
     "name": "stdout",
     "output_type": "stream",
     "text": [
      "[BERT] Sample <The estimated number of mortgages in Nicholas II of Russia is provided by the Rang De Basanti> has perplexity [5.516938209533691]\n"
     ]
    },
    {
     "name": "stderr",
     "output_type": "stream",
     "text": [
      "\r",
      " 36%|███████████████▊                            | 9/25 [00:34<01:01,  3.86s/it]"
     ]
    },
    {
     "name": "stdout",
     "output_type": "stream",
     "text": [
      "[BERT] Sample <magnesium won an award at the organ> has perplexity [43.41610336303711]\n"
     ]
    },
    {
     "name": "stderr",
     "output_type": "stream",
     "text": [
      "\r",
      " 40%|█████████████████▏                         | 10/25 [00:37<00:55,  3.69s/it]"
     ]
    },
    {
     "name": "stdout",
     "output_type": "stream",
     "text": [
      "[BERT] Sample <Al Ain FC was born in Wim Wenders> has perplexity [28.291118621826172]\n"
     ]
    },
    {
     "name": "stderr",
     "output_type": "stream",
     "text": [
      "\r",
      " 44%|██████████████████▉                        | 11/25 [00:40<00:49,  3.54s/it]"
     ]
    },
    {
     "name": "stdout",
     "output_type": "stream",
     "text": [
      "[BERT] Sample <The film FC Sion was distributed by skin cancer> has perplexity [20.891345977783203]\n"
     ]
    }
   ],
   "source": [
    "#negative_samples = graph.sample_english(25, negative=True)\n",
    "#gpt2_neg_perplexity = model_gpt2.batch_perplexity(negative_samples)\n",
    "#gpt2_large_neg_perplexity = model_gpt2_large.batch_perplexity(negative_samples)\n",
    "bert_neg_perplexity = model_bert.batch_perplexity(negative_samples)"
   ]
  },
  {
   "cell_type": "code",
   "execution_count": 104,
   "id": "217eac60",
   "metadata": {},
   "outputs": [
    {
     "name": "stdout",
     "output_type": "stream",
     "text": [
      "Ttest_indResult(statistic=-4.286097727885394, pvalue=8.709093628921685e-05)\n",
      "Ttest_indResult(statistic=-4.085985856923845, pvalue=0.000165894303784713)\n",
      "Ttest_indResult(statistic=-1.0025262883358261, pvalue=0.3211167964671217)\n"
     ]
    }
   ],
   "source": [
    "import scipy\n",
    "\n",
    "print(scipy.stats.ttest_ind(gpt2_pos_perplexity, gpt2_neg_perplexity))\n",
    "print(scipy.stats.ttest_ind(gpt2_large_pos_perplexity, gpt2_large_neg_perplexity))\n",
    "print(scipy.stats.ttest_ind(bert_pos_perplexity, bert_neg_perplexity))"
   ]
  },
  {
   "cell_type": "code",
   "execution_count": null,
   "id": "b50fec24",
   "metadata": {},
   "outputs": [],
   "source": [
    "compare_models(samples, 'GPT2', gpt2_pos_perplexity, \"GPT2-Large\", gpt2_large_pos_perplexity)\n",
    "compare_models(negative_samples, 'GPT2', gpt2_neg_perplexity, \"GPT2-Large\", gpt2_large_neg_perplexity)\n",
    "\n",
    "compare_models(samples, 'GPT2', gpt2_pos_perplexity, \"BERT\", bert_pos_perplexity)\n",
    "compare_models(negative_samples, 'GPT2', gpt2_neg_perplexity, \"BERT\", bert_neg_perplexity)"
   ]
  },
  {
   "cell_type": "code",
   "execution_count": 105,
   "id": "64e50bfb",
   "metadata": {},
   "outputs": [
    {
     "name": "stderr",
     "output_type": "stream",
     "text": [
      "/Users/frg100/opt/anaconda3/envs/cs224u/lib/python3.9/site-packages/seaborn/distributions.py:2619: FutureWarning: `distplot` is a deprecated function and will be removed in a future version. Please adapt your code to use either `displot` (a figure-level function with similar flexibility) or `histplot` (an axes-level function for histograms).\n",
      "  warnings.warn(msg, FutureWarning)\n",
      "/Users/frg100/opt/anaconda3/envs/cs224u/lib/python3.9/site-packages/seaborn/distributions.py:2619: FutureWarning: `distplot` is a deprecated function and will be removed in a future version. Please adapt your code to use either `displot` (a figure-level function with similar flexibility) or `histplot` (an axes-level function for histograms).\n",
      "  warnings.warn(msg, FutureWarning)\n"
     ]
    },
    {
     "data": {
      "image/png": "[encoded data removed]",
      "text/plain": [
       "<Figure size 1440x720 with 1 Axes>"
      ]
     },
     "metadata": {
      "needs_background": "light"
     },
     "output_type": "display_data"
    },
    {
     "name": "stderr",
     "output_type": "stream",
     "text": [
      "/Users/frg100/opt/anaconda3/envs/cs224u/lib/python3.9/site-packages/seaborn/distributions.py:2619: FutureWarning: `distplot` is a deprecated function and will be removed in a future version. Please adapt your code to use either `displot` (a figure-level function with similar flexibility) or `histplot` (an axes-level function for histograms).\n",
      "  warnings.warn(msg, FutureWarning)\n",
      "/Users/frg100/opt/anaconda3/envs/cs224u/lib/python3.9/site-packages/seaborn/distributions.py:2619: FutureWarning: `distplot` is a deprecated function and will be removed in a future version. Please adapt your code to use either `displot` (a figure-level function with similar flexibility) or `histplot` (an axes-level function for histograms).\n",
      "  warnings.warn(msg, FutureWarning)\n"
     ]
    },
    {
     "data": {
      "image/png": "[encoded data removed]",
      "text/plain": [
       "<Figure size 1440x720 with 1 Axes>"
      ]
     },
     "metadata": {
      "needs_background": "light"
     },
     "output_type": "display_data"
    },
    {
     "name": "stderr",
     "output_type": "stream",
     "text": [
      "/Users/frg100/opt/anaconda3/envs/cs224u/lib/python3.9/site-packages/seaborn/distributions.py:2619: FutureWarning: `distplot` is a deprecated function and will be removed in a future version. Please adapt your code to use either `displot` (a figure-level function with similar flexibility) or `histplot` (an axes-level function for histograms).\n",
      "  warnings.warn(msg, FutureWarning)\n",
      "/Users/frg100/opt/anaconda3/envs/cs224u/lib/python3.9/site-packages/seaborn/distributions.py:2619: FutureWarning: `distplot` is a deprecated function and will be removed in a future version. Please adapt your code to use either `displot` (a figure-level function with similar flexibility) or `histplot` (an axes-level function for histograms).\n",
      "  warnings.warn(msg, FutureWarning)\n"
     ]
    },
    {
     "data": {
      "image/png": "[encoded data removed]",
      "text/plain": [
       "<Figure size 1440x720 with 1 Axes>"
      ]
     },
     "metadata": {
      "needs_background": "light"
     },
     "output_type": "display_data"
    }
   ],
   "source": [
    "compare_triples('GPT2', gpt2_pos_perplexity, gpt2_neg_perplexity)\n",
    "compare_triples('GPT2-Large', gpt2_large_pos_perplexity, gpt2_large_neg_perplexity)\n",
    "compare_triples('BERT', bert_pos_perplexity, bert_neg_perplexity)"
   ]
  },
  {
   "cell_type": "markdown",
   "id": "ef37a784",
   "metadata": {},
   "source": [
    "### Random Experiments"
   ]
  },
  {
   "cell_type": "code",
   "execution_count": null,
   "id": "7479e5c3",
   "metadata": {},
   "outputs": [],
   "source": [
    "weights_name = 'bert-base-cased'\n",
    "bert_tokenizer = BertTokenizer.from_pretrained(weights_name)\n",
    "bert_model = BertModel.from_pretrained(weights_name)"
   ]
  },
  {
   "cell_type": "code",
   "execution_count": null,
   "id": "f1934ff9",
   "metadata": {},
   "outputs": [],
   "source": [
    "bert_tokenizer.batch_encode_plus(\n",
    "    graph.sample_english(10),\n",
    "    add_special_tokens=True,\n",
    "    return_attention_mask=True,\n",
    "    padding='longest')"
   ]
  },
  {
   "cell_type": "code",
   "execution_count": null,
   "id": "be303246",
   "metadata": {},
   "outputs": [],
   "source": [
    "def batch_perplexity(samples, verbose=0):\n",
    "    print(f\"Calculating perplexity for {len(samples)} samples\")\n",
    "    perplexities = []\n",
    "    for sample in samples:\n",
    "        encoding = tokenizer(sample, return_tensors=\"pt\")\n",
    "        num_tokens = encoding.input_ids.shape[1]\n",
    "\n",
    "        nlls = []\n",
    "        for end_loc in range(1, num_tokens):\n",
    "            input_ids = encoding.input_ids[:, 0:end_loc]\n",
    "            target_ids = input_ids.clone()\n",
    "\n",
    "            with torch.no_grad():\n",
    "                outputs = model(input_ids, labels=target_ids)\n",
    "                neg_log_likelihood = outputs[0] * end_loc\n",
    "\n",
    "        nlls.append(neg_log_likelihood)\n",
    "\n",
    "        perplexity = torch.exp(torch.stack(nlls).sum() / end_loc)\n",
    "        if verbose >= 2:\n",
    "            print(f\"Sample <{sample}> has perplexity [{perplexity}]\")\n",
    "        perplexities.append(perplexity)\n",
    "\n",
    "    if verbose >= 1:\n",
    "        print(f\"Final average perplexity: {sum(perplexities)/len(perplexities)}\")\n",
    "        \n",
    "    return perplexities\n",
    "\n",
    "batch_perplexity(graph.sample_english(10, negative=False), verbose=2)"
   ]
  },
  {
   "cell_type": "code",
   "execution_count": null,
   "id": "e43243be",
   "metadata": {},
   "outputs": [],
   "source": [
    "from transformers import GPT2LMHeadModel, GPT2TokenizerFast\n",
    "\n",
    "model_id = \"gpt2\"\n",
    "model = GPT2LMHeadModel.from_pretrained(model_id)\n",
    "tokenizer = GPT2TokenizerFast.from_pretrained(model_id)\n",
    "\n",
    "encodings = tokenizer(\"\\n\\n\".join(graph.sample_english(10)), return_tensors=\"pt\")\n",
    "\n",
    "import torch\n",
    "from tqdm import tqdm\n",
    "\n",
    "max_length = model.config.n_positions\n",
    "stride = 1\n",
    "\n",
    "nlls = []\n",
    "for i in tqdm(range(0, encodings.input_ids.size(1), stride)):\n",
    "    begin_loc = max(i + stride - max_length, 0)\n",
    "    end_loc = min(i + stride, encodings.input_ids.size(1))\n",
    "    trg_len = end_loc - i  # may be different from stride on last loop\n",
    "    input_ids = encodings.input_ids[:, begin_loc:end_loc]\n",
    "    target_ids = input_ids.clone()\n",
    "    target_ids[:, :-trg_len] = -100\n",
    "\n",
    "    with torch.no_grad():\n",
    "        print(begin_loc, end_loc)\n",
    "        outputs = model(input_ids, labels=target_ids)\n",
    "        neg_log_likelihood = outputs[0] * trg_len\n",
    "\n",
    "    nlls.append(neg_log_likelihood)\n",
    "\n",
    "ppl = torch.exp(torch.stack(nlls).sum() / end_loc)"
   ]
  },
  {
   "cell_type": "code",
   "execution_count": null,
   "id": "b08911b4",
   "metadata": {},
   "outputs": [],
   "source": [
    "ppl"
   ]
  },
  {
   "cell_type": "markdown",
   "id": "8f5e209d",
   "metadata": {},
   "source": [
    "### Running the code"
   ]
  },
  {
   "cell_type": "code",
   "execution_count": null,
   "id": "37ce7b8d",
   "metadata": {},
   "outputs": [],
   "source": [
    "graph = FB15k237(base_path='./data/FB15k-237', splits=['train', 'valid','test'], verbose=2)"
   ]
  },
  {
   "cell_type": "code",
   "execution_count": null,
   "id": "7721c600",
   "metadata": {},
   "outputs": [],
   "source": [
    "graph.sample_english(10, negative=False)"
   ]
  },
  {
   "cell_type": "markdown",
   "id": "5e00dc69",
   "metadata": {},
   "source": []
  },
  {
   "cell_type": "markdown",
   "id": "21ebdcf9",
   "metadata": {},
   "source": [
    "### Random Experiments"
   ]
  },
  {
   "cell_type": "code",
   "execution_count": null,
   "id": "16b7e39c",
   "metadata": {},
   "outputs": [],
   "source": [
    "# base_path='./data/FB15k-237'\n",
    "\n",
    "# mapping = {}\n",
    "\n",
    "# # Load file if it exists\n",
    "# json_path = os.path.join(base_path, \"relation_mapping.json\")\n",
    "\n",
    "# if os.path.exists(json_path):\n",
    "#     json_file_read = open(json_path, 'r')\n",
    "#     mapping = json.load(json_file_read)\n",
    "#     json_file_read.close()\n",
    "\n",
    "\n",
    "# # for rel in graph.relations:\n",
    "# #     if rel not in mapping:\n",
    "# #         relations_done = len(mapping.keys())\n",
    "# #         relations_total = len(graph.relations)\n",
    "# #         relations_left = relations_total - relations_done\n",
    "# #         print(f\"[{round(100*(relations_done/relations_total), 2)}%] done describing relations ({relations_left} left)\")\n",
    "        \n",
    "# #         instance_idx = np.where(graph.triples[:, 1] == graph.relations.index(rel))[0][0]\n",
    "# #         head, relation, tail = graph.triples[instance_idx]\n",
    "# #         head, tail = graph._mid2entity(graph.entities[head]), graph._mid2entity(graph.entities[tail])\n",
    "        \n",
    "# #         format_string = input(f\"{head} {rel} {tail}: \")\n",
    "# #         mapping[rel] = format_string\n",
    "# #         json_file_write = open(json_path, 'w')\n",
    "# #         json.dump(mapping, json_file_write)\n",
    "# #         json_file_write.close()\n",
    "        \n",
    "    "
   ]
  },
  {
   "cell_type": "code",
   "execution_count": null,
   "id": "26837578",
   "metadata": {},
   "outputs": [],
   "source": [
    "# Generate the dataset using the functions\n"
   ]
  },
  {
   "cell_type": "code",
   "execution_count": null,
   "id": "033a6986",
   "metadata": {},
   "outputs": [],
   "source": [
    "# def see_relation_examples(relation, k = 1):\n",
    "#     instance_indices = np.where(graph.triples[:, 1] == graph.relations.index(rel))[0][:k]\n",
    "#     samples = graph.triples[instance_indices]\n",
    "#     for sample in samples:\n",
    "#         h, r, t = sample\n",
    "#         print(graph._id2entity(graph.entities[h]), graph.relations[r], graph._id2entity(graph.entities[t]))\n",
    "    \n",
    "# see_relation_examples('/award/award_winner/awards_won./award/award_honor/award_winner', k=5)"
   ]
  },
  {
   "cell_type": "code",
   "execution_count": null,
   "id": "80bf2f64",
   "metadata": {},
   "outputs": [],
   "source": [
    "len(graph.relations)"
   ]
  },
  {
   "cell_type": "code",
   "execution_count": null,
   "id": "12c9c82e",
   "metadata": {},
   "outputs": [],
   "source": []
  }
 ],
 "metadata": {
  "kernelspec": {
   "display_name": "cs224u",
   "language": "python",
   "name": "cs224u"
  },
  "language_info": {
   "codemirror_mode": {
    "name": "ipython",
    "version": 3
   },
   "file_extension": ".py",
   "mimetype": "text/x-python",
   "name": "python",
   "nbconvert_exporter": "python",
   "pygments_lexer": "ipython3",
   "version": "3.9.7"
  }
 },
 "nbformat": 4,
 "nbformat_minor": 5
}
